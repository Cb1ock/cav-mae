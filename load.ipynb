{
 "cells": [
  {
   "cell_type": "markdown",
   "metadata": {},
   "source": [
    "# load model\n"
   ]
  },
  {
   "cell_type": "code",
   "execution_count": 1,
   "metadata": {},
   "outputs": [],
   "source": [
    "%load_ext autoreload\n",
    "%autoreload 2\n",
    "import os\n",
    "import sys\n",
    "#os.environ[\"CUDA_VISIBLE_DEVICES\"] = \"1\" # select GPU\n",
    "sys.path.append('/home/chenghao/Project/cav-mae')"
   ]
  },
  {
   "cell_type": "markdown",
   "metadata": {},
   "source": [
    "# cav-mae 的整体模型定义并导入预训练权重"
   ]
  },
  {
   "cell_type": "code",
   "execution_count": null,
   "metadata": {},
   "outputs": [],
   "source": [
    "import os\n",
    "import torch\n",
    "import timm\n",
    "from src.models import CAVMAE\n",
    "\n",
    "assert timm.__version__ == '0.4.5' # it is important to have right version of timm\n",
    "\n",
    "model_path = 'pretrained_model/audio_model.pth'\n",
    "os.environ[\"CUDA_VISIBLE_DEVICES\"] = \"6,7\" # select GPU\n",
    "# CAV-MAE model with decoder\n",
    "#print(torch.cuda.device_count())\n",
    "torch.cuda.set_device(1)\n",
    "audio_model = CAVMAE(audio_length=1024,\n",
    "                     modality_specific_depth=11,\n",
    "                     norm_pix_loss=True, tr_pos=False) # most models are trained with pixel normalization and non-trainabe positional embedding\n",
    "\n",
    "device = torch.device(\"cuda\" if torch.cuda.is_available() else \"cpu\")\n",
    "mdl_weight = torch.load(model_path, map_location=device)\n",
    "audio_model = torch.nn.DataParallel(audio_model) # it is important to convert the model to dataparallel object as all weights are saved in dataparallel format (i.e., in module.xxx)\n",
    "miss, unexpected = audio_model.load_state_dict(mdl_weight, strict=False)\n",
    "print('miss=',miss, 'unexpected=', unexpected) # check if all weights are correctly loaded"
   ]
  },
  {
   "cell_type": "markdown",
   "metadata": {},
   "source": [
    "# 定义my_cav-mae模型，查看其中的video模块输出维度"
   ]
  },
  {
   "cell_type": "code",
   "execution_count": 12,
   "metadata": {},
   "outputs": [
    {
     "name": "stdout",
     "output_type": "stream",
     "text": [
      "Use norm_pix_loss:  True\n",
      "Number of Audio Patches: 512, Visual Patches: 196\n",
      "Audio Positional Embedding Shape: torch.Size([1, 512, 768])\n",
      "Visual Positional Embedding Shape: torch.Size([1, 196, 768])\n"
     ]
    }
   ],
   "source": [
    "import os\n",
    "import torch\n",
    "import timm\n",
    "from src.models.my_model import MY_MODULE, MY_FT\n",
    "\n",
    "pretrained_mae_path = 'pretrained_model/pretrained_maedfer.pth'\n",
    "my_model = MY_FT(label_dim = 11, img_size=224, audio_length=1024, \n",
    "                       modality_specific_depth=11,\n",
    "                       norm_pix_loss=True, tr_pos=False, pretrained_mae_path=pretrained_mae_path)\n"
   ]
  },
  {
   "cell_type": "code",
   "execution_count": 13,
   "metadata": {},
   "outputs": [],
   "source": [
    "\n",
    "Video_data = torch.randn(8, 3, 8, 224, 224)\n",
    "# 从给定文件夹下面取所有的8帧，制作一个videodata\n",
    "Audio_data = torch.randn(8, 1024, 128)\n",
    "output = my_model(Audio_data, Video_data,'multimodal')"
   ]
  },
  {
   "cell_type": "code",
   "execution_count": 14,
   "metadata": {},
   "outputs": [
    {
     "name": "stdout",
     "output_type": "stream",
     "text": [
      "tensor([[ 5.2988e-01, -9.9112e-01, -3.3496e+00, -1.6574e+00, -1.6092e-01,\n",
      "         -2.4413e+00,  1.2220e+00,  1.7428e+00, -1.4540e+00,  1.7196e-01,\n",
      "         -1.9195e+00],\n",
      "        [ 6.3494e-01, -1.1141e+00, -3.4143e+00, -1.7632e+00,  4.5381e-02,\n",
      "         -2.3578e+00,  1.1923e+00,  1.6898e+00, -1.5633e+00,  1.0128e-01,\n",
      "         -1.9564e+00],\n",
      "        [ 6.1013e-01, -1.2794e+00, -3.4199e+00, -1.7083e+00, -1.9097e-01,\n",
      "         -2.3626e+00,  1.2999e+00,  1.8093e+00, -1.4972e+00,  7.2735e-02,\n",
      "         -1.7189e+00],\n",
      "        [ 6.9055e-01, -1.2137e+00, -3.4993e+00, -1.6629e+00, -1.2731e-01,\n",
      "         -2.4378e+00,  1.2881e+00,  1.6241e+00, -1.3302e+00,  4.7066e-02,\n",
      "         -1.9907e+00],\n",
      "        [ 5.9498e-01, -1.1333e+00, -3.3223e+00, -1.7042e+00, -1.8942e-02,\n",
      "         -2.4774e+00,  1.1405e+00,  1.7786e+00, -1.3530e+00,  1.2421e-01,\n",
      "         -1.7782e+00],\n",
      "        [ 6.3174e-01, -1.0541e+00, -3.5229e+00, -1.5947e+00, -2.6083e-01,\n",
      "         -2.4845e+00,  1.1276e+00,  1.6438e+00, -1.5168e+00,  1.5932e-01,\n",
      "         -1.6838e+00],\n",
      "        [ 6.3089e-01, -1.1771e+00, -3.2604e+00, -1.6812e+00, -1.0989e-03,\n",
      "         -2.4937e+00,  1.2131e+00,  1.7412e+00, -1.2098e+00,  1.2012e-01,\n",
      "         -1.6277e+00],\n",
      "        [ 4.4595e-01, -1.2605e+00, -3.4172e+00, -1.7346e+00, -2.7950e-01,\n",
      "         -2.5275e+00,  1.4556e+00,  1.6615e+00, -1.4377e+00,  1.2337e-01,\n",
      "         -1.6851e+00]], grad_fn=<AddmmBackward0>)\n",
      "torch.Size([8, 11])\n"
     ]
    }
   ],
   "source": [
    "print(output)\n",
    "print(output.shape)"
   ]
  },
  {
   "cell_type": "markdown",
   "metadata": {},
   "source": [
    "# 定义mae dfer模型"
   ]
  },
  {
   "cell_type": "code",
   "execution_count": 13,
   "metadata": {},
   "outputs": [
    {
     "name": "stdout",
     "output_type": "stream",
     "text": [
      "dict_keys(['model', 'optimizer', 'epoch', 'scaler', 'args'])\n",
      "_IncompatibleKeys(missing_keys=['patch_embed.proj.weight', 'patch_embed.proj.bias', 'blocks.0.norm1.weight', 'blocks.0.norm1.bias', 'blocks.0.attn.q_bias', 'blocks.0.attn.v_bias', 'blocks.0.attn.qkv.weight', 'blocks.0.attn.proj.weight', 'blocks.0.attn.proj.bias', 'blocks.0.norm2.weight', 'blocks.0.norm2.bias', 'blocks.0.mlp.fc1.weight', 'blocks.0.mlp.fc1.bias', 'blocks.0.mlp.fc2.weight', 'blocks.0.mlp.fc2.bias', 'blocks.1.norm1.weight', 'blocks.1.norm1.bias', 'blocks.1.attn.q_bias', 'blocks.1.attn.v_bias', 'blocks.1.attn.qkv.weight', 'blocks.1.attn.proj.weight', 'blocks.1.attn.proj.bias', 'blocks.1.norm2.weight', 'blocks.1.norm2.bias', 'blocks.1.mlp.fc1.weight', 'blocks.1.mlp.fc1.bias', 'blocks.1.mlp.fc2.weight', 'blocks.1.mlp.fc2.bias', 'blocks.2.norm1.weight', 'blocks.2.norm1.bias', 'blocks.2.attn.q_bias', 'blocks.2.attn.v_bias', 'blocks.2.attn.qkv.weight', 'blocks.2.attn.proj.weight', 'blocks.2.attn.proj.bias', 'blocks.2.norm2.weight', 'blocks.2.norm2.bias', 'blocks.2.mlp.fc1.weight', 'blocks.2.mlp.fc1.bias', 'blocks.2.mlp.fc2.weight', 'blocks.2.mlp.fc2.bias', 'blocks.3.norm1.weight', 'blocks.3.norm1.bias', 'blocks.3.attn.q_bias', 'blocks.3.attn.v_bias', 'blocks.3.attn.qkv.weight', 'blocks.3.attn.proj.weight', 'blocks.3.attn.proj.bias', 'blocks.3.norm2.weight', 'blocks.3.norm2.bias', 'blocks.3.mlp.fc1.weight', 'blocks.3.mlp.fc1.bias', 'blocks.3.mlp.fc2.weight', 'blocks.3.mlp.fc2.bias', 'blocks.4.norm1.weight', 'blocks.4.norm1.bias', 'blocks.4.attn.q_bias', 'blocks.4.attn.v_bias', 'blocks.4.attn.qkv.weight', 'blocks.4.attn.proj.weight', 'blocks.4.attn.proj.bias', 'blocks.4.norm2.weight', 'blocks.4.norm2.bias', 'blocks.4.mlp.fc1.weight', 'blocks.4.mlp.fc1.bias', 'blocks.4.mlp.fc2.weight', 'blocks.4.mlp.fc2.bias', 'blocks.5.norm1.weight', 'blocks.5.norm1.bias', 'blocks.5.attn.q_bias', 'blocks.5.attn.v_bias', 'blocks.5.attn.qkv.weight', 'blocks.5.attn.proj.weight', 'blocks.5.attn.proj.bias', 'blocks.5.norm2.weight', 'blocks.5.norm2.bias', 'blocks.5.mlp.fc1.weight', 'blocks.5.mlp.fc1.bias', 'blocks.5.mlp.fc2.weight', 'blocks.5.mlp.fc2.bias', 'blocks.6.norm1.weight', 'blocks.6.norm1.bias', 'blocks.6.attn.q_bias', 'blocks.6.attn.v_bias', 'blocks.6.attn.qkv.weight', 'blocks.6.attn.proj.weight', 'blocks.6.attn.proj.bias', 'blocks.6.norm2.weight', 'blocks.6.norm2.bias', 'blocks.6.mlp.fc1.weight', 'blocks.6.mlp.fc1.bias', 'blocks.6.mlp.fc2.weight', 'blocks.6.mlp.fc2.bias', 'blocks.7.norm1.weight', 'blocks.7.norm1.bias', 'blocks.7.attn.q_bias', 'blocks.7.attn.v_bias', 'blocks.7.attn.qkv.weight', 'blocks.7.attn.proj.weight', 'blocks.7.attn.proj.bias', 'blocks.7.norm2.weight', 'blocks.7.norm2.bias', 'blocks.7.mlp.fc1.weight', 'blocks.7.mlp.fc1.bias', 'blocks.7.mlp.fc2.weight', 'blocks.7.mlp.fc2.bias', 'blocks.8.norm1.weight', 'blocks.8.norm1.bias', 'blocks.8.attn.q_bias', 'blocks.8.attn.v_bias', 'blocks.8.attn.qkv.weight', 'blocks.8.attn.proj.weight', 'blocks.8.attn.proj.bias', 'blocks.8.norm2.weight', 'blocks.8.norm2.bias', 'blocks.8.mlp.fc1.weight', 'blocks.8.mlp.fc1.bias', 'blocks.8.mlp.fc2.weight', 'blocks.8.mlp.fc2.bias', 'blocks.9.norm1.weight', 'blocks.9.norm1.bias', 'blocks.9.attn.q_bias', 'blocks.9.attn.v_bias', 'blocks.9.attn.qkv.weight', 'blocks.9.attn.proj.weight', 'blocks.9.attn.proj.bias', 'blocks.9.norm2.weight', 'blocks.9.norm2.bias', 'blocks.9.mlp.fc1.weight', 'blocks.9.mlp.fc1.bias', 'blocks.9.mlp.fc2.weight', 'blocks.9.mlp.fc2.bias', 'blocks.10.norm1.weight', 'blocks.10.norm1.bias', 'blocks.10.attn.q_bias', 'blocks.10.attn.v_bias', 'blocks.10.attn.qkv.weight', 'blocks.10.attn.proj.weight', 'blocks.10.attn.proj.bias', 'blocks.10.norm2.weight', 'blocks.10.norm2.bias', 'blocks.10.mlp.fc1.weight', 'blocks.10.mlp.fc1.bias', 'blocks.10.mlp.fc2.weight', 'blocks.10.mlp.fc2.bias', 'blocks.11.norm1.weight', 'blocks.11.norm1.bias', 'blocks.11.attn.q_bias', 'blocks.11.attn.v_bias', 'blocks.11.attn.qkv.weight', 'blocks.11.attn.proj.weight', 'blocks.11.attn.proj.bias', 'blocks.11.norm2.weight', 'blocks.11.norm2.bias', 'blocks.11.mlp.fc1.weight', 'blocks.11.mlp.fc1.bias', 'blocks.11.mlp.fc2.weight', 'blocks.11.mlp.fc2.bias', 'fc_norm.weight', 'fc_norm.bias', 'head.weight', 'head.bias'], unexpected_keys=['mask_token', 'encoder.lg_region_tokens', 'encoder.patch_embed.proj.weight', 'encoder.patch_embed.proj.bias', 'encoder.blocks.0.first_attn_norm0.weight', 'encoder.blocks.0.first_attn_norm0.bias', 'encoder.blocks.0.first_attn.q_bias', 'encoder.blocks.0.first_attn.v_bias', 'encoder.blocks.0.first_attn.q.weight', 'encoder.blocks.0.first_attn.kv.weight', 'encoder.blocks.0.first_attn.proj.weight', 'encoder.blocks.0.first_attn.proj.bias', 'encoder.blocks.0.second_attn_norm0.weight', 'encoder.blocks.0.second_attn_norm0.bias', 'encoder.blocks.0.second_attn.q_bias', 'encoder.blocks.0.second_attn.v_bias', 'encoder.blocks.0.second_attn.q.weight', 'encoder.blocks.0.second_attn.kv.weight', 'encoder.blocks.0.second_attn.proj.weight', 'encoder.blocks.0.second_attn.proj.bias', 'encoder.blocks.0.third_attn_norm0.weight', 'encoder.blocks.0.third_attn_norm0.bias', 'encoder.blocks.0.third_attn_norm1.weight', 'encoder.blocks.0.third_attn_norm1.bias', 'encoder.blocks.0.third_attn.q_bias', 'encoder.blocks.0.third_attn.v_bias', 'encoder.blocks.0.third_attn.q.weight', 'encoder.blocks.0.third_attn.kv.weight', 'encoder.blocks.0.third_attn.proj.weight', 'encoder.blocks.0.third_attn.proj.bias', 'encoder.blocks.0.norm2.weight', 'encoder.blocks.0.norm2.bias', 'encoder.blocks.0.mlp.fc1.weight', 'encoder.blocks.0.mlp.fc1.bias', 'encoder.blocks.0.mlp.fc2.weight', 'encoder.blocks.0.mlp.fc2.bias', 'encoder.blocks.1.first_attn_norm0.weight', 'encoder.blocks.1.first_attn_norm0.bias', 'encoder.blocks.1.first_attn.q_bias', 'encoder.blocks.1.first_attn.v_bias', 'encoder.blocks.1.first_attn.q.weight', 'encoder.blocks.1.first_attn.kv.weight', 'encoder.blocks.1.first_attn.proj.weight', 'encoder.blocks.1.first_attn.proj.bias', 'encoder.blocks.1.second_attn_norm0.weight', 'encoder.blocks.1.second_attn_norm0.bias', 'encoder.blocks.1.second_attn.q_bias', 'encoder.blocks.1.second_attn.v_bias', 'encoder.blocks.1.second_attn.q.weight', 'encoder.blocks.1.second_attn.kv.weight', 'encoder.blocks.1.second_attn.proj.weight', 'encoder.blocks.1.second_attn.proj.bias', 'encoder.blocks.1.third_attn_norm0.weight', 'encoder.blocks.1.third_attn_norm0.bias', 'encoder.blocks.1.third_attn_norm1.weight', 'encoder.blocks.1.third_attn_norm1.bias', 'encoder.blocks.1.third_attn.q_bias', 'encoder.blocks.1.third_attn.v_bias', 'encoder.blocks.1.third_attn.q.weight', 'encoder.blocks.1.third_attn.kv.weight', 'encoder.blocks.1.third_attn.proj.weight', 'encoder.blocks.1.third_attn.proj.bias', 'encoder.blocks.1.norm2.weight', 'encoder.blocks.1.norm2.bias', 'encoder.blocks.1.mlp.fc1.weight', 'encoder.blocks.1.mlp.fc1.bias', 'encoder.blocks.1.mlp.fc2.weight', 'encoder.blocks.1.mlp.fc2.bias', 'encoder.blocks.2.first_attn_norm0.weight', 'encoder.blocks.2.first_attn_norm0.bias', 'encoder.blocks.2.first_attn.q_bias', 'encoder.blocks.2.first_attn.v_bias', 'encoder.blocks.2.first_attn.q.weight', 'encoder.blocks.2.first_attn.kv.weight', 'encoder.blocks.2.first_attn.proj.weight', 'encoder.blocks.2.first_attn.proj.bias', 'encoder.blocks.2.second_attn_norm0.weight', 'encoder.blocks.2.second_attn_norm0.bias', 'encoder.blocks.2.second_attn.q_bias', 'encoder.blocks.2.second_attn.v_bias', 'encoder.blocks.2.second_attn.q.weight', 'encoder.blocks.2.second_attn.kv.weight', 'encoder.blocks.2.second_attn.proj.weight', 'encoder.blocks.2.second_attn.proj.bias', 'encoder.blocks.2.third_attn_norm0.weight', 'encoder.blocks.2.third_attn_norm0.bias', 'encoder.blocks.2.third_attn_norm1.weight', 'encoder.blocks.2.third_attn_norm1.bias', 'encoder.blocks.2.third_attn.q_bias', 'encoder.blocks.2.third_attn.v_bias', 'encoder.blocks.2.third_attn.q.weight', 'encoder.blocks.2.third_attn.kv.weight', 'encoder.blocks.2.third_attn.proj.weight', 'encoder.blocks.2.third_attn.proj.bias', 'encoder.blocks.2.norm2.weight', 'encoder.blocks.2.norm2.bias', 'encoder.blocks.2.mlp.fc1.weight', 'encoder.blocks.2.mlp.fc1.bias', 'encoder.blocks.2.mlp.fc2.weight', 'encoder.blocks.2.mlp.fc2.bias', 'encoder.blocks.3.first_attn_norm0.weight', 'encoder.blocks.3.first_attn_norm0.bias', 'encoder.blocks.3.first_attn.q_bias', 'encoder.blocks.3.first_attn.v_bias', 'encoder.blocks.3.first_attn.q.weight', 'encoder.blocks.3.first_attn.kv.weight', 'encoder.blocks.3.first_attn.proj.weight', 'encoder.blocks.3.first_attn.proj.bias', 'encoder.blocks.3.second_attn_norm0.weight', 'encoder.blocks.3.second_attn_norm0.bias', 'encoder.blocks.3.second_attn.q_bias', 'encoder.blocks.3.second_attn.v_bias', 'encoder.blocks.3.second_attn.q.weight', 'encoder.blocks.3.second_attn.kv.weight', 'encoder.blocks.3.second_attn.proj.weight', 'encoder.blocks.3.second_attn.proj.bias', 'encoder.blocks.3.third_attn_norm0.weight', 'encoder.blocks.3.third_attn_norm0.bias', 'encoder.blocks.3.third_attn_norm1.weight', 'encoder.blocks.3.third_attn_norm1.bias', 'encoder.blocks.3.third_attn.q_bias', 'encoder.blocks.3.third_attn.v_bias', 'encoder.blocks.3.third_attn.q.weight', 'encoder.blocks.3.third_attn.kv.weight', 'encoder.blocks.3.third_attn.proj.weight', 'encoder.blocks.3.third_attn.proj.bias', 'encoder.blocks.3.norm2.weight', 'encoder.blocks.3.norm2.bias', 'encoder.blocks.3.mlp.fc1.weight', 'encoder.blocks.3.mlp.fc1.bias', 'encoder.blocks.3.mlp.fc2.weight', 'encoder.blocks.3.mlp.fc2.bias', 'encoder.blocks.4.first_attn_norm0.weight', 'encoder.blocks.4.first_attn_norm0.bias', 'encoder.blocks.4.first_attn.q_bias', 'encoder.blocks.4.first_attn.v_bias', 'encoder.blocks.4.first_attn.q.weight', 'encoder.blocks.4.first_attn.kv.weight', 'encoder.blocks.4.first_attn.proj.weight', 'encoder.blocks.4.first_attn.proj.bias', 'encoder.blocks.4.second_attn_norm0.weight', 'encoder.blocks.4.second_attn_norm0.bias', 'encoder.blocks.4.second_attn.q_bias', 'encoder.blocks.4.second_attn.v_bias', 'encoder.blocks.4.second_attn.q.weight', 'encoder.blocks.4.second_attn.kv.weight', 'encoder.blocks.4.second_attn.proj.weight', 'encoder.blocks.4.second_attn.proj.bias', 'encoder.blocks.4.third_attn_norm0.weight', 'encoder.blocks.4.third_attn_norm0.bias', 'encoder.blocks.4.third_attn_norm1.weight', 'encoder.blocks.4.third_attn_norm1.bias', 'encoder.blocks.4.third_attn.q_bias', 'encoder.blocks.4.third_attn.v_bias', 'encoder.blocks.4.third_attn.q.weight', 'encoder.blocks.4.third_attn.kv.weight', 'encoder.blocks.4.third_attn.proj.weight', 'encoder.blocks.4.third_attn.proj.bias', 'encoder.blocks.4.norm2.weight', 'encoder.blocks.4.norm2.bias', 'encoder.blocks.4.mlp.fc1.weight', 'encoder.blocks.4.mlp.fc1.bias', 'encoder.blocks.4.mlp.fc2.weight', 'encoder.blocks.4.mlp.fc2.bias', 'encoder.blocks.5.first_attn_norm0.weight', 'encoder.blocks.5.first_attn_norm0.bias', 'encoder.blocks.5.first_attn.q_bias', 'encoder.blocks.5.first_attn.v_bias', 'encoder.blocks.5.first_attn.q.weight', 'encoder.blocks.5.first_attn.kv.weight', 'encoder.blocks.5.first_attn.proj.weight', 'encoder.blocks.5.first_attn.proj.bias', 'encoder.blocks.5.second_attn_norm0.weight', 'encoder.blocks.5.second_attn_norm0.bias', 'encoder.blocks.5.second_attn.q_bias', 'encoder.blocks.5.second_attn.v_bias', 'encoder.blocks.5.second_attn.q.weight', 'encoder.blocks.5.second_attn.kv.weight', 'encoder.blocks.5.second_attn.proj.weight', 'encoder.blocks.5.second_attn.proj.bias', 'encoder.blocks.5.third_attn_norm0.weight', 'encoder.blocks.5.third_attn_norm0.bias', 'encoder.blocks.5.third_attn_norm1.weight', 'encoder.blocks.5.third_attn_norm1.bias', 'encoder.blocks.5.third_attn.q_bias', 'encoder.blocks.5.third_attn.v_bias', 'encoder.blocks.5.third_attn.q.weight', 'encoder.blocks.5.third_attn.kv.weight', 'encoder.blocks.5.third_attn.proj.weight', 'encoder.blocks.5.third_attn.proj.bias', 'encoder.blocks.5.norm2.weight', 'encoder.blocks.5.norm2.bias', 'encoder.blocks.5.mlp.fc1.weight', 'encoder.blocks.5.mlp.fc1.bias', 'encoder.blocks.5.mlp.fc2.weight', 'encoder.blocks.5.mlp.fc2.bias', 'encoder.blocks.6.first_attn_norm0.weight', 'encoder.blocks.6.first_attn_norm0.bias', 'encoder.blocks.6.first_attn.q_bias', 'encoder.blocks.6.first_attn.v_bias', 'encoder.blocks.6.first_attn.q.weight', 'encoder.blocks.6.first_attn.kv.weight', 'encoder.blocks.6.first_attn.proj.weight', 'encoder.blocks.6.first_attn.proj.bias', 'encoder.blocks.6.second_attn_norm0.weight', 'encoder.blocks.6.second_attn_norm0.bias', 'encoder.blocks.6.second_attn.q_bias', 'encoder.blocks.6.second_attn.v_bias', 'encoder.blocks.6.second_attn.q.weight', 'encoder.blocks.6.second_attn.kv.weight', 'encoder.blocks.6.second_attn.proj.weight', 'encoder.blocks.6.second_attn.proj.bias', 'encoder.blocks.6.third_attn_norm0.weight', 'encoder.blocks.6.third_attn_norm0.bias', 'encoder.blocks.6.third_attn_norm1.weight', 'encoder.blocks.6.third_attn_norm1.bias', 'encoder.blocks.6.third_attn.q_bias', 'encoder.blocks.6.third_attn.v_bias', 'encoder.blocks.6.third_attn.q.weight', 'encoder.blocks.6.third_attn.kv.weight', 'encoder.blocks.6.third_attn.proj.weight', 'encoder.blocks.6.third_attn.proj.bias', 'encoder.blocks.6.norm2.weight', 'encoder.blocks.6.norm2.bias', 'encoder.blocks.6.mlp.fc1.weight', 'encoder.blocks.6.mlp.fc1.bias', 'encoder.blocks.6.mlp.fc2.weight', 'encoder.blocks.6.mlp.fc2.bias', 'encoder.blocks.7.first_attn_norm0.weight', 'encoder.blocks.7.first_attn_norm0.bias', 'encoder.blocks.7.first_attn.q_bias', 'encoder.blocks.7.first_attn.v_bias', 'encoder.blocks.7.first_attn.q.weight', 'encoder.blocks.7.first_attn.kv.weight', 'encoder.blocks.7.first_attn.proj.weight', 'encoder.blocks.7.first_attn.proj.bias', 'encoder.blocks.7.second_attn_norm0.weight', 'encoder.blocks.7.second_attn_norm0.bias', 'encoder.blocks.7.second_attn.q_bias', 'encoder.blocks.7.second_attn.v_bias', 'encoder.blocks.7.second_attn.q.weight', 'encoder.blocks.7.second_attn.kv.weight', 'encoder.blocks.7.second_attn.proj.weight', 'encoder.blocks.7.second_attn.proj.bias', 'encoder.blocks.7.third_attn_norm0.weight', 'encoder.blocks.7.third_attn_norm0.bias', 'encoder.blocks.7.third_attn_norm1.weight', 'encoder.blocks.7.third_attn_norm1.bias', 'encoder.blocks.7.third_attn.q_bias', 'encoder.blocks.7.third_attn.v_bias', 'encoder.blocks.7.third_attn.q.weight', 'encoder.blocks.7.third_attn.kv.weight', 'encoder.blocks.7.third_attn.proj.weight', 'encoder.blocks.7.third_attn.proj.bias', 'encoder.blocks.7.norm2.weight', 'encoder.blocks.7.norm2.bias', 'encoder.blocks.7.mlp.fc1.weight', 'encoder.blocks.7.mlp.fc1.bias', 'encoder.blocks.7.mlp.fc2.weight', 'encoder.blocks.7.mlp.fc2.bias', 'encoder.blocks.8.first_attn_norm0.weight', 'encoder.blocks.8.first_attn_norm0.bias', 'encoder.blocks.8.first_attn.q_bias', 'encoder.blocks.8.first_attn.v_bias', 'encoder.blocks.8.first_attn.q.weight', 'encoder.blocks.8.first_attn.kv.weight', 'encoder.blocks.8.first_attn.proj.weight', 'encoder.blocks.8.first_attn.proj.bias', 'encoder.blocks.8.second_attn_norm0.weight', 'encoder.blocks.8.second_attn_norm0.bias', 'encoder.blocks.8.second_attn.q_bias', 'encoder.blocks.8.second_attn.v_bias', 'encoder.blocks.8.second_attn.q.weight', 'encoder.blocks.8.second_attn.kv.weight', 'encoder.blocks.8.second_attn.proj.weight', 'encoder.blocks.8.second_attn.proj.bias', 'encoder.blocks.8.third_attn_norm0.weight', 'encoder.blocks.8.third_attn_norm0.bias', 'encoder.blocks.8.third_attn_norm1.weight', 'encoder.blocks.8.third_attn_norm1.bias', 'encoder.blocks.8.third_attn.q_bias', 'encoder.blocks.8.third_attn.v_bias', 'encoder.blocks.8.third_attn.q.weight', 'encoder.blocks.8.third_attn.kv.weight', 'encoder.blocks.8.third_attn.proj.weight', 'encoder.blocks.8.third_attn.proj.bias', 'encoder.blocks.8.norm2.weight', 'encoder.blocks.8.norm2.bias', 'encoder.blocks.8.mlp.fc1.weight', 'encoder.blocks.8.mlp.fc1.bias', 'encoder.blocks.8.mlp.fc2.weight', 'encoder.blocks.8.mlp.fc2.bias', 'encoder.blocks.9.first_attn_norm0.weight', 'encoder.blocks.9.first_attn_norm0.bias', 'encoder.blocks.9.first_attn.q_bias', 'encoder.blocks.9.first_attn.v_bias', 'encoder.blocks.9.first_attn.q.weight', 'encoder.blocks.9.first_attn.kv.weight', 'encoder.blocks.9.first_attn.proj.weight', 'encoder.blocks.9.first_attn.proj.bias', 'encoder.blocks.9.second_attn_norm0.weight', 'encoder.blocks.9.second_attn_norm0.bias', 'encoder.blocks.9.second_attn.q_bias', 'encoder.blocks.9.second_attn.v_bias', 'encoder.blocks.9.second_attn.q.weight', 'encoder.blocks.9.second_attn.kv.weight', 'encoder.blocks.9.second_attn.proj.weight', 'encoder.blocks.9.second_attn.proj.bias', 'encoder.blocks.9.third_attn_norm0.weight', 'encoder.blocks.9.third_attn_norm0.bias', 'encoder.blocks.9.third_attn_norm1.weight', 'encoder.blocks.9.third_attn_norm1.bias', 'encoder.blocks.9.third_attn.q_bias', 'encoder.blocks.9.third_attn.v_bias', 'encoder.blocks.9.third_attn.q.weight', 'encoder.blocks.9.third_attn.kv.weight', 'encoder.blocks.9.third_attn.proj.weight', 'encoder.blocks.9.third_attn.proj.bias', 'encoder.blocks.9.norm2.weight', 'encoder.blocks.9.norm2.bias', 'encoder.blocks.9.mlp.fc1.weight', 'encoder.blocks.9.mlp.fc1.bias', 'encoder.blocks.9.mlp.fc2.weight', 'encoder.blocks.9.mlp.fc2.bias', 'encoder.blocks.10.first_attn_norm0.weight', 'encoder.blocks.10.first_attn_norm0.bias', 'encoder.blocks.10.first_attn.q_bias', 'encoder.blocks.10.first_attn.v_bias', 'encoder.blocks.10.first_attn.q.weight', 'encoder.blocks.10.first_attn.kv.weight', 'encoder.blocks.10.first_attn.proj.weight', 'encoder.blocks.10.first_attn.proj.bias', 'encoder.blocks.10.second_attn_norm0.weight', 'encoder.blocks.10.second_attn_norm0.bias', 'encoder.blocks.10.second_attn.q_bias', 'encoder.blocks.10.second_attn.v_bias', 'encoder.blocks.10.second_attn.q.weight', 'encoder.blocks.10.second_attn.kv.weight', 'encoder.blocks.10.second_attn.proj.weight', 'encoder.blocks.10.second_attn.proj.bias', 'encoder.blocks.10.third_attn_norm0.weight', 'encoder.blocks.10.third_attn_norm0.bias', 'encoder.blocks.10.third_attn_norm1.weight', 'encoder.blocks.10.third_attn_norm1.bias', 'encoder.blocks.10.third_attn.q_bias', 'encoder.blocks.10.third_attn.v_bias', 'encoder.blocks.10.third_attn.q.weight', 'encoder.blocks.10.third_attn.kv.weight', 'encoder.blocks.10.third_attn.proj.weight', 'encoder.blocks.10.third_attn.proj.bias', 'encoder.blocks.10.norm2.weight', 'encoder.blocks.10.norm2.bias', 'encoder.blocks.10.mlp.fc1.weight', 'encoder.blocks.10.mlp.fc1.bias', 'encoder.blocks.10.mlp.fc2.weight', 'encoder.blocks.10.mlp.fc2.bias', 'encoder.blocks.11.first_attn_norm0.weight', 'encoder.blocks.11.first_attn_norm0.bias', 'encoder.blocks.11.first_attn.q_bias', 'encoder.blocks.11.first_attn.v_bias', 'encoder.blocks.11.first_attn.q.weight', 'encoder.blocks.11.first_attn.kv.weight', 'encoder.blocks.11.first_attn.proj.weight', 'encoder.blocks.11.first_attn.proj.bias', 'encoder.blocks.11.second_attn_norm0.weight', 'encoder.blocks.11.second_attn_norm0.bias', 'encoder.blocks.11.second_attn.q_bias', 'encoder.blocks.11.second_attn.v_bias', 'encoder.blocks.11.second_attn.q.weight', 'encoder.blocks.11.second_attn.kv.weight', 'encoder.blocks.11.second_attn.proj.weight', 'encoder.blocks.11.second_attn.proj.bias', 'encoder.blocks.11.third_attn_norm0.weight', 'encoder.blocks.11.third_attn_norm0.bias', 'encoder.blocks.11.third_attn_norm1.weight', 'encoder.blocks.11.third_attn_norm1.bias', 'encoder.blocks.11.third_attn.q_bias', 'encoder.blocks.11.third_attn.v_bias', 'encoder.blocks.11.third_attn.q.weight', 'encoder.blocks.11.third_attn.kv.weight', 'encoder.blocks.11.third_attn.proj.weight', 'encoder.blocks.11.third_attn.proj.bias', 'encoder.blocks.11.norm2.weight', 'encoder.blocks.11.norm2.bias', 'encoder.blocks.11.mlp.fc1.weight', 'encoder.blocks.11.mlp.fc1.bias', 'encoder.blocks.11.mlp.fc2.weight', 'encoder.blocks.11.mlp.fc2.bias', 'encoder.blocks.12.first_attn_norm0.weight', 'encoder.blocks.12.first_attn_norm0.bias', 'encoder.blocks.12.first_attn.q_bias', 'encoder.blocks.12.first_attn.v_bias', 'encoder.blocks.12.first_attn.q.weight', 'encoder.blocks.12.first_attn.kv.weight', 'encoder.blocks.12.first_attn.proj.weight', 'encoder.blocks.12.first_attn.proj.bias', 'encoder.blocks.12.second_attn_norm0.weight', 'encoder.blocks.12.second_attn_norm0.bias', 'encoder.blocks.12.second_attn.q_bias', 'encoder.blocks.12.second_attn.v_bias', 'encoder.blocks.12.second_attn.q.weight', 'encoder.blocks.12.second_attn.kv.weight', 'encoder.blocks.12.second_attn.proj.weight', 'encoder.blocks.12.second_attn.proj.bias', 'encoder.blocks.12.third_attn_norm0.weight', 'encoder.blocks.12.third_attn_norm0.bias', 'encoder.blocks.12.third_attn_norm1.weight', 'encoder.blocks.12.third_attn_norm1.bias', 'encoder.blocks.12.third_attn.q_bias', 'encoder.blocks.12.third_attn.v_bias', 'encoder.blocks.12.third_attn.q.weight', 'encoder.blocks.12.third_attn.kv.weight', 'encoder.blocks.12.third_attn.proj.weight', 'encoder.blocks.12.third_attn.proj.bias', 'encoder.blocks.12.norm2.weight', 'encoder.blocks.12.norm2.bias', 'encoder.blocks.12.mlp.fc1.weight', 'encoder.blocks.12.mlp.fc1.bias', 'encoder.blocks.12.mlp.fc2.weight', 'encoder.blocks.12.mlp.fc2.bias', 'encoder.blocks.13.first_attn_norm0.weight', 'encoder.blocks.13.first_attn_norm0.bias', 'encoder.blocks.13.first_attn.q_bias', 'encoder.blocks.13.first_attn.v_bias', 'encoder.blocks.13.first_attn.q.weight', 'encoder.blocks.13.first_attn.kv.weight', 'encoder.blocks.13.first_attn.proj.weight', 'encoder.blocks.13.first_attn.proj.bias', 'encoder.blocks.13.second_attn_norm0.weight', 'encoder.blocks.13.second_attn_norm0.bias', 'encoder.blocks.13.second_attn.q_bias', 'encoder.blocks.13.second_attn.v_bias', 'encoder.blocks.13.second_attn.q.weight', 'encoder.blocks.13.second_attn.kv.weight', 'encoder.blocks.13.second_attn.proj.weight', 'encoder.blocks.13.second_attn.proj.bias', 'encoder.blocks.13.third_attn_norm0.weight', 'encoder.blocks.13.third_attn_norm0.bias', 'encoder.blocks.13.third_attn_norm1.weight', 'encoder.blocks.13.third_attn_norm1.bias', 'encoder.blocks.13.third_attn.q_bias', 'encoder.blocks.13.third_attn.v_bias', 'encoder.blocks.13.third_attn.q.weight', 'encoder.blocks.13.third_attn.kv.weight', 'encoder.blocks.13.third_attn.proj.weight', 'encoder.blocks.13.third_attn.proj.bias', 'encoder.blocks.13.norm2.weight', 'encoder.blocks.13.norm2.bias', 'encoder.blocks.13.mlp.fc1.weight', 'encoder.blocks.13.mlp.fc1.bias', 'encoder.blocks.13.mlp.fc2.weight', 'encoder.blocks.13.mlp.fc2.bias', 'encoder.blocks.14.first_attn_norm0.weight', 'encoder.blocks.14.first_attn_norm0.bias', 'encoder.blocks.14.first_attn.q_bias', 'encoder.blocks.14.first_attn.v_bias', 'encoder.blocks.14.first_attn.q.weight', 'encoder.blocks.14.first_attn.kv.weight', 'encoder.blocks.14.first_attn.proj.weight', 'encoder.blocks.14.first_attn.proj.bias', 'encoder.blocks.14.second_attn_norm0.weight', 'encoder.blocks.14.second_attn_norm0.bias', 'encoder.blocks.14.second_attn.q_bias', 'encoder.blocks.14.second_attn.v_bias', 'encoder.blocks.14.second_attn.q.weight', 'encoder.blocks.14.second_attn.kv.weight', 'encoder.blocks.14.second_attn.proj.weight', 'encoder.blocks.14.second_attn.proj.bias', 'encoder.blocks.14.third_attn_norm0.weight', 'encoder.blocks.14.third_attn_norm0.bias', 'encoder.blocks.14.third_attn_norm1.weight', 'encoder.blocks.14.third_attn_norm1.bias', 'encoder.blocks.14.third_attn.q_bias', 'encoder.blocks.14.third_attn.v_bias', 'encoder.blocks.14.third_attn.q.weight', 'encoder.blocks.14.third_attn.kv.weight', 'encoder.blocks.14.third_attn.proj.weight', 'encoder.blocks.14.third_attn.proj.bias', 'encoder.blocks.14.norm2.weight', 'encoder.blocks.14.norm2.bias', 'encoder.blocks.14.mlp.fc1.weight', 'encoder.blocks.14.mlp.fc1.bias', 'encoder.blocks.14.mlp.fc2.weight', 'encoder.blocks.14.mlp.fc2.bias', 'encoder.blocks.15.first_attn_norm0.weight', 'encoder.blocks.15.first_attn_norm0.bias', 'encoder.blocks.15.first_attn.q_bias', 'encoder.blocks.15.first_attn.v_bias', 'encoder.blocks.15.first_attn.q.weight', 'encoder.blocks.15.first_attn.kv.weight', 'encoder.blocks.15.first_attn.proj.weight', 'encoder.blocks.15.first_attn.proj.bias', 'encoder.blocks.15.second_attn_norm0.weight', 'encoder.blocks.15.second_attn_norm0.bias', 'encoder.blocks.15.second_attn.q_bias', 'encoder.blocks.15.second_attn.v_bias', 'encoder.blocks.15.second_attn.q.weight', 'encoder.blocks.15.second_attn.kv.weight', 'encoder.blocks.15.second_attn.proj.weight', 'encoder.blocks.15.second_attn.proj.bias', 'encoder.blocks.15.third_attn_norm0.weight', 'encoder.blocks.15.third_attn_norm0.bias', 'encoder.blocks.15.third_attn_norm1.weight', 'encoder.blocks.15.third_attn_norm1.bias', 'encoder.blocks.15.third_attn.q_bias', 'encoder.blocks.15.third_attn.v_bias', 'encoder.blocks.15.third_attn.q.weight', 'encoder.blocks.15.third_attn.kv.weight', 'encoder.blocks.15.third_attn.proj.weight', 'encoder.blocks.15.third_attn.proj.bias', 'encoder.blocks.15.norm2.weight', 'encoder.blocks.15.norm2.bias', 'encoder.blocks.15.mlp.fc1.weight', 'encoder.blocks.15.mlp.fc1.bias', 'encoder.blocks.15.mlp.fc2.weight', 'encoder.blocks.15.mlp.fc2.bias', 'encoder.norm.weight', 'encoder.norm.bias', 'decoder.blocks.0.norm1.weight', 'decoder.blocks.0.norm1.bias', 'decoder.blocks.0.attn.q_bias', 'decoder.blocks.0.attn.v_bias', 'decoder.blocks.0.attn.qkv.weight', 'decoder.blocks.0.attn.proj.weight', 'decoder.blocks.0.attn.proj.bias', 'decoder.blocks.0.norm2.weight', 'decoder.blocks.0.norm2.bias', 'decoder.blocks.0.mlp.fc1.weight', 'decoder.blocks.0.mlp.fc1.bias', 'decoder.blocks.0.mlp.fc2.weight', 'decoder.blocks.0.mlp.fc2.bias', 'decoder.blocks.1.norm1.weight', 'decoder.blocks.1.norm1.bias', 'decoder.blocks.1.attn.q_bias', 'decoder.blocks.1.attn.v_bias', 'decoder.blocks.1.attn.qkv.weight', 'decoder.blocks.1.attn.proj.weight', 'decoder.blocks.1.attn.proj.bias', 'decoder.blocks.1.norm2.weight', 'decoder.blocks.1.norm2.bias', 'decoder.blocks.1.mlp.fc1.weight', 'decoder.blocks.1.mlp.fc1.bias', 'decoder.blocks.1.mlp.fc2.weight', 'decoder.blocks.1.mlp.fc2.bias', 'decoder.blocks.2.norm1.weight', 'decoder.blocks.2.norm1.bias', 'decoder.blocks.2.attn.q_bias', 'decoder.blocks.2.attn.v_bias', 'decoder.blocks.2.attn.qkv.weight', 'decoder.blocks.2.attn.proj.weight', 'decoder.blocks.2.attn.proj.bias', 'decoder.blocks.2.norm2.weight', 'decoder.blocks.2.norm2.bias', 'decoder.blocks.2.mlp.fc1.weight', 'decoder.blocks.2.mlp.fc1.bias', 'decoder.blocks.2.mlp.fc2.weight', 'decoder.blocks.2.mlp.fc2.bias', 'decoder.blocks.3.norm1.weight', 'decoder.blocks.3.norm1.bias', 'decoder.blocks.3.attn.q_bias', 'decoder.blocks.3.attn.v_bias', 'decoder.blocks.3.attn.qkv.weight', 'decoder.blocks.3.attn.proj.weight', 'decoder.blocks.3.attn.proj.bias', 'decoder.blocks.3.norm2.weight', 'decoder.blocks.3.norm2.bias', 'decoder.blocks.3.mlp.fc1.weight', 'decoder.blocks.3.mlp.fc1.bias', 'decoder.blocks.3.mlp.fc2.weight', 'decoder.blocks.3.mlp.fc2.bias', 'decoder.norm.weight', 'decoder.norm.bias', 'decoder.head.weight', 'decoder.head.bias', 'encoder_to_decoder.weight'])\n"
     ]
    }
   ],
   "source": [
    "#from src.models import modeling_finetune\n",
    "import torch\n",
    "from src.models.modeling_finetune import vit_base_patch16_160 ,vit_base_dim512_no_depth_patch16_160\n",
    "\n",
    "# 定义模型\n",
    "model1 = vit_base_dim512_no_depth_patch16_160(num_classes=11)\n",
    "model1 = model1.to('cuda')\n",
    "pretrained_model = '/home/chenghao/Project/cav-mae/pretrained_model/pretrained_maedfer.pth'\n",
    "ckt = torch.load(pretrained_model, map_location='cpu')\n",
    "print(ckt.keys())\n",
    "\n",
    "msg = model1.load_state_dict(ckt['model'], strict=False)\n",
    "print(msg)"
   ]
  },
  {
   "cell_type": "markdown",
   "metadata": {},
   "source": [
    "# 用maedfer 进行一次前向"
   ]
  },
  {
   "cell_type": "code",
   "execution_count": 14,
   "metadata": {},
   "outputs": [
    {
     "name": "stdout",
     "output_type": "stream",
     "text": [
      "torch.Size([8, 3, 16, 160, 160])\n",
      "torch.Size([8, 3, 16, 160, 160])\n",
      "torch.Size([8, 512])\n",
      "torch.Size([8, 11])\n"
     ]
    }
   ],
   "source": [
    "\n",
    "# 创建随机输入数据\n",
    "input_data = torch.rand(8, 3, 16, 160, 160)\n",
    "\n",
    "# 进行前向传播\n",
    "input_data = input_data.to('cuda:0')\n",
    "output1, output1_feature = model1(input_data,save_feature=True)\n",
    "model1.reset_classifier( num_classes=10)\n",
    "print(output1_feature.shape)\n",
    "print(output1.shape)\n"
   ]
  },
  {
   "cell_type": "code",
   "execution_count": null,
   "metadata": {},
   "outputs": [],
   "source": [
    "from src.models.modeling_pretrain import PretrainVisionTransformer\n",
    "model2 = PretrainVisionTransformer()\n",
    "input_data = torch.rand(8, 3, 16, 224, 224)\n",
    "input_mask = torch.rand(8, 16, 160, 160)\n",
    "output2, output2_feature = model2(input_data, input_mask)"
   ]
  }
 ],
 "metadata": {
  "kernelspec": {
   "display_name": "MAE_C",
   "language": "python",
   "name": "python3"
  },
  "language_info": {
   "codemirror_mode": {
    "name": "ipython",
    "version": 3
   },
   "file_extension": ".py",
   "mimetype": "text/x-python",
   "name": "python",
   "nbconvert_exporter": "python",
   "pygments_lexer": "ipython3",
   "version": "3.8.18"
  }
 },
 "nbformat": 4,
 "nbformat_minor": 2
}

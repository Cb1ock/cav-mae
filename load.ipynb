{
 "cells": [
  {
   "cell_type": "markdown",
   "metadata": {},
   "source": [
    "# load model\n"
   ]
  },
  {
   "cell_type": "code",
   "execution_count": 1,
   "metadata": {},
   "outputs": [],
   "source": [
    "%load_ext autoreload\n",
    "%autoreload 2\n",
    "import os\n",
    "import sys\n",
    "#os.environ[\"CUDA_VISIBLE_DEVICES\"] = \"1\" # select GPU\n",
    "sys.path.append('/home/chenghao/Project/cav-mae')"
   ]
  },
  {
   "cell_type": "markdown",
   "metadata": {},
   "source": [
    "# cav-mae 的整体模型定义并导入预训练权重"
   ]
  },
  {
   "cell_type": "code",
   "execution_count": null,
   "metadata": {},
   "outputs": [],
   "source": [
    "import os\n",
    "import torch\n",
    "import timm\n",
    "from src.models import CAVMAE\n",
    "\n",
    "assert timm.__version__ == '0.4.5' # it is important to have right version of timm\n",
    "\n",
    "model_path = 'pretrained_model/audio_model.pth'\n",
    "os.environ[\"CUDA_VISIBLE_DEVICES\"] = \"6,7\" # select GPU\n",
    "# CAV-MAE model with decoder\n",
    "#print(torch.cuda.device_count())\n",
    "torch.cuda.set_device(1)\n",
    "audio_model = CAVMAE(audio_length=1024,\n",
    "                     modality_specific_depth=11,\n",
    "                     norm_pix_loss=True, tr_pos=False) # most models are trained with pixel normalization and non-trainabe positional embedding\n",
    "\n",
    "device = torch.device(\"cuda\" if torch.cuda.is_available() else \"cpu\")\n",
    "mdl_weight = torch.load(model_path, map_location=device)\n",
    "audio_model = torch.nn.DataParallel(audio_model) # it is important to convert the model to dataparallel object as all weights are saved in dataparallel format (i.e., in module.xxx)\n",
    "miss, unexpected = audio_model.load_state_dict(mdl_weight, strict=False)\n",
    "print('miss=',miss, 'unexpected=', unexpected) # check if all weights are correctly loaded"
   ]
  },
  {
   "cell_type": "markdown",
   "metadata": {},
   "source": [
    "# 定义my_cav-mae模型，查看其中的video模块输出维度"
   ]
  },
  {
   "cell_type": "code",
   "execution_count": null,
   "metadata": {},
   "outputs": [],
   "source": [
    "import os\n",
    "import torch\n",
    "import timm\n",
    "from src.models.my_model import MY_MODULE, MY_FT\n",
    "\n",
    "pretrained_mae_path = 'pretrained_model/pretrained_maedfer.pth'\n",
    "my_model = MY_FT(label_dim = 11, img_size=224, audio_length=1024, \n",
    "                       modality_specific_depth=11,\n",
    "                       norm_pix_loss=True, tr_pos=False, pretrained_mae_path=pretrained_mae_path)\n"
   ]
  },
  {
   "cell_type": "code",
   "execution_count": null,
   "metadata": {},
   "outputs": [],
   "source": [
    "\n",
    "Video_data = torch.randn(8, 3, 8, 224, 224)\n",
    "Audio_data = torch.randn(8, 1024, 128)\n",
    "output = my_model(Audio_data, Video_data,'multimodal')"
   ]
  },
  {
   "cell_type": "code",
   "execution_count": null,
   "metadata": {},
   "outputs": [],
   "source": [
    "print(output)\n",
    "print(output.shape)"
   ]
  },
  {
   "cell_type": "markdown",
   "metadata": {},
   "source": [
    "# 定义mae dfer模型"
   ]
  },
  {
   "cell_type": "code",
   "execution_count": 55,
   "metadata": {},
   "outputs": [
    {
     "name": "stdout",
     "output_type": "stream",
     "text": [
      "ckt total keys:575\n",
      "Number of unexpected weights: 501\n",
      "Number of model_total_keys: 162\n",
      "Number of missing weights: 88\n"
     ]
    }
   ],
   "source": [
    "#from src.models import modeling_finetune\n",
    "import torch\n",
    "from collections import OrderedDict\n",
    "from src.models.modeling_finetune import vit_base_patch16_160, vit_base_dim512_no_depth_patch16_160\n",
    "\n",
    "# 定义模型\n",
    "model1 = vit_base_dim512_no_depth_patch16_160(num_classes=11)\n",
    "model1 = model1.to('cuda')\n",
    "\n",
    "# 加载预训练模型\n",
    "pretrained_model = '/home/chenghao/Project/cav-mae/pretrained_model/pretrained_maedfer.pth'\n",
    "checkpoint = torch.load(pretrained_model, map_location='cpu')\n",
    "\n",
    "# 从预训练模型中获取权重\n",
    "checkpoint_model = checkpoint['model']\n",
    "\n",
    "# 删除不匹配的权重\n",
    "state_dict = model1.state_dict()\n",
    "for k in ['head.weight', 'head.bias']:\n",
    "    if k in checkpoint_model and checkpoint_model[k].shape != state_dict[k].shape:\n",
    "        print(f\"Removing key {k} from pretrained checkpoint\")\n",
    "        del checkpoint_model[k]\n",
    "\n",
    "# 调整权重的键名\n",
    "all_keys = list(checkpoint_model.keys())\n",
    "new_dict = OrderedDict()\n",
    "for key in all_keys:\n",
    "    if key.startswith('backbone.'):\n",
    "        new_dict[key[9:]] = checkpoint_model[key]\n",
    "    elif key.startswith('encoder.'):\n",
    "        new_dict[key[8:]] = checkpoint_model[key]\n",
    "    else:\n",
    "        new_dict[key] = checkpoint_model[key]\n",
    "\n",
    "# 加载权重到模型\n",
    "msg=model1.load_state_dict(new_dict, strict=False)\n",
    "\n",
    "# 计算未正确导入权重的个数\n",
    "total_keys = len(checkpoint['model'].keys())\n",
    "num_unexpected_keys = len(msg.unexpected_keys)\n",
    "num_missing_keys = len(msg.missing_keys)\n",
    "model_total_keys = len(model1.state_dict().keys()) \n",
    "\n",
    "# 计算预训练模型中的权重数量\n",
    "num_total_keys = len(checkpoint['model'].keys())\n",
    "\n",
    "\n",
    "\n",
    "print(f'ckt total keys:{total_keys}')\n",
    "print(f\"Number of unexpected weights: {num_unexpected_keys}\")\n",
    "\n",
    "print(f\"Number of model_total_keys: {model_total_keys}\")\n",
    "print(f\"Number of missing weights: {num_missing_keys}\")\n",
    "\n"
   ]
  },
  {
   "cell_type": "markdown",
   "metadata": {},
   "source": [
    "# 用maedfer 进行一次前向"
   ]
  },
  {
   "cell_type": "code",
   "execution_count": 14,
   "metadata": {},
   "outputs": [
    {
     "name": "stdout",
     "output_type": "stream",
     "text": [
      "torch.Size([8, 3, 16, 160, 160])\n",
      "torch.Size([8, 3, 16, 160, 160])\n",
      "torch.Size([8, 512])\n",
      "torch.Size([8, 11])\n"
     ]
    }
   ],
   "source": [
    "\n",
    "# 创建随机输入数据\n",
    "input_data = torch.rand(8, 3, 16, 160, 160)\n",
    "\n",
    "# 进行前向传播\n",
    "input_data = input_data.to('cuda:0')\n",
    "output1, output1_feature = model1(input_data,save_feature=True)\n",
    "model1.reset_classifier( num_classes=10)\n",
    "print(output1_feature.shape)\n",
    "print(output1.shape)\n"
   ]
  },
  {
   "cell_type": "code",
   "execution_count": null,
   "metadata": {},
   "outputs": [],
   "source": [
    "from src.models.modeling_pretrain import PretrainVisionTransformer\n",
    "model2 = PretrainVisionTransformer()\n",
    "input_data = torch.rand(8, 3, 16, 224, 224)\n",
    "input_mask = torch.rand(8, 16, 160, 160)\n",
    "output2, output2_feature = model2(input_data, input_mask)"
   ]
  },
  {
   "cell_type": "code",
   "execution_count": 61,
   "metadata": {},
   "outputs": [
    {
     "data": {
      "image/png": "[encoded data removed]",
      "text/plain": [
       "<Figure size 500x1000 with 1 Axes>"
      ]
     },
     "metadata": {},
     "output_type": "display_data"
    }
   ],
   "source": [
    "import re\n",
    "import matplotlib.pyplot as plt\n",
    "\n",
    "# 从日志文件中读取数据\n",
    "log_dir = 'egs/celebv-text/exp/testmae01-audioset-cav-mae-balNone-lr1e-4-epoch25-bs40-normTrue-c0.01-p1.0-tpFalse-mr-unstructured-0.75-a5/log.txt'\n",
    "log_dir_2 = '/home/chenghao/Project/cav-mae/egs/celebv-text/exp/testmae01-audioset-cav-mae-balNone-lr1e-4-epoch25-bs32-normTrue-c0.01-p1.0-tpFalse-mr-unstructured-0.75-a5/log.txt'\n",
    "\n",
    "with open(log_dir, 'r') as f:\n",
    "    log_data = f.read()\n",
    "\n",
    "# 使用正则表达式匹配损失值\n",
    "pattern_audio = r\"Eval Audio MAE Loss: (\\d+\\.\\d+)\"\n",
    "pattern_visual = r\"Eval Visual MAE Loss: (\\d+\\.\\d+)\"\n",
    "pattern_total_mae = r\"Eval Total MAE Loss: (\\d+\\.\\d+)\"\n",
    "pattern_contrastive = r\"Eval Contrastive Loss: (\\d+\\.\\d+)\"\n",
    "pattern_total = r\"Eval Total Loss: (\\d+\\.\\d+)\"\n",
    "\n",
    "loss_values_audio = re.findall(pattern_audio, log_data)\n",
    "loss_values_visual = re.findall(pattern_visual, log_data)\n",
    "loss_values_total_mae = re.findall(pattern_total_mae, log_data)\n",
    "loss_values_contrastive = re.findall(pattern_contrastive, log_data)\n",
    "loss_values_total = re.findall(pattern_total, log_data)\n",
    "\n",
    "# 将损失值转换为浮点数\n",
    "loss_values_audio = [float(value) for value in loss_values_audio]\n",
    "loss_values_visual = [float(value) for value in loss_values_visual]\n",
    "loss_values_total_mae = [float(value) for value in loss_values_total_mae]\n",
    "loss_values_contrastive = [float(value) for value in loss_values_contrastive]\n",
    "loss_values_total = [float(value) for value in loss_values_total]\n",
    "\n",
    "# 创建一个新的figure，并设置其大小\n",
    "plt.figure(figsize=(5,10))\n",
    "\n",
    "# 绘制损失下降曲线\n",
    "plt.plot(loss_values_audio, label='Audio MAE Loss')\n",
    "plt.plot(loss_values_visual, label='Visual MAE Loss')\n",
    "plt.plot(loss_values_total_mae, label='Total MAE Loss')\n",
    "plt.plot(loss_values_contrastive, label='Contrastive Loss')\n",
    "plt.plot(loss_values_total, label='Total Loss')\n",
    "plt.title('Re-pretrained on CelebV-Text Loss Decrease Over Time')\n",
    "plt.xlabel('Epoch')\n",
    "plt.ylabel('Loss')\n",
    "plt.legend()\n",
    "plt.show()"
   ]
  },
  {
   "cell_type": "code",
   "execution_count": null,
   "metadata": {},
   "outputs": [],
   "source": [
    "import re\n",
    "import matplotlib.pyplot as plt\n",
    "\n",
    "# 从日志文件中读取数据\n",
    "log_dir = 'egs/celebv-text/exp/testmae01-audioset-cav-mae-balNone-lr1e-4-epoch25-bs40-normTrue-c0.01-p1.0-tpFalse-mr-unstructured-0.75-a5/log.txt'\n",
    "with open(log_dir, 'r') as f:\n",
    "    log_data = f.read()\n",
    "\n",
    "# 使用正则表达式匹配损失值\n",
    "pattern_audio = r\"Eval Audio MAE Loss: (\\d+\\.\\d+)\"\n",
    "pattern_visual = r\"Eval Visual MAE Loss: (\\d+\\.\\d+)\"\n",
    "pattern_total_mae = r\"Eval Total MAE Loss: (\\d+\\.\\d+)\"\n",
    "pattern_contrastive = r\"Eval Contrastive Loss: (\\d+\\.\\d+)\"\n",
    "pattern_total = r\"Eval Total Loss: (\\d+\\.\\d+)\"\n",
    "\n",
    "loss_values_audio = re.findall(pattern_audio, log_data)\n",
    "loss_values_visual = re.findall(pattern_visual, log_data)\n",
    "loss_values_total_mae = re.findall(pattern_total_mae, log_data)\n",
    "loss_values_contrastive = re.findall(pattern_contrastive, log_data)\n",
    "loss_values_total = re.findall(pattern_total, log_data)\n",
    "\n",
    "# 将损失值转换为浮点数\n",
    "loss_values_audio = [float(value) for value in loss_values_audio]\n",
    "loss_values_visual = [float(value) for value in loss_values_visual]\n",
    "loss_values_total_mae = [float(value) for value in loss_values_total_mae]\n",
    "loss_values_contrastive = [float(value) for value in loss_values_contrastive]\n",
    "loss_values_total = [float(value) for value in loss_values_total]\n",
    "\n",
    "# 创建一个新的figure，并设置其大小\n",
    "plt.figure(figsize=(10, 5))\n",
    "\n",
    "# 绘制损失下降曲线\n",
    "plt.plot(loss_values_audio, label='Audio MAE Loss')\n",
    "plt.plot(loss_values_visual, label='Visual MAE Loss')\n",
    "plt.plot(loss_values_total_mae, label='Total MAE Loss')\n",
    "plt.plot(loss_values_contrastive, label='Contrastive Loss')\n",
    "plt.plot(loss_values_total, label='Total Loss')\n",
    "plt.title('Loss Decrease Over Time')\n",
    "plt.xlabel('Epoch')\n",
    "plt.ylabel('Loss')\n",
    "plt.legend()\n",
    "plt.show()"
   ]
  },
  {
   "cell_type": "code",
   "execution_count": null,
   "metadata": {},
   "outputs": [],
   "source": [
    "import re\n",
    "import matplotlib.pyplot as plt\n",
    "\n",
    "# 从日志文件中读取数据\n",
    "log_dir = 'egs/celebv-text/exp/testmae01-audioset-cav-mae-balNone-lr1e-4-epoch25-bs40-normTrue-c0.01-p1.0-tpFalse-mr-unstructured-0.75-a5/log.txt'\n",
    "with open(log_dir, 'r') as f:\n",
    "    log_data = f.read()\n",
    "\n",
    "# 使用正则表达式匹配损失值\n",
    "pattern_audio = r\"Eval Audio MAE Loss: (\\d+\\.\\d+)\"\n",
    "pattern_visual = r\"Eval Visual MAE Loss: (\\d+\\.\\d+)\"\n",
    "pattern_total_mae = r\"Eval Total MAE Loss: (\\d+\\.\\d+)\"\n",
    "pattern_contrastive = r\"Eval Contrastive Loss: (\\d+\\.\\d+)\"\n",
    "pattern_total = r\"Eval Total Loss: (\\d+\\.\\d+)\"\n",
    "\n",
    "loss_values_audio = re.findall(pattern_audio, log_data)\n",
    "loss_values_visual = re.findall(pattern_visual, log_data)\n",
    "loss_values_total_mae = re.findall(pattern_total_mae, log_data)\n",
    "loss_values_contrastive = re.findall(pattern_contrastive, log_data)\n",
    "loss_values_total = re.findall(pattern_total, log_data)\n",
    "\n",
    "# 将损失值转换为浮点数\n",
    "loss_values_audio = [float(value) for value in loss_values_audio]\n",
    "loss_values_visual = [float(value) for value in loss_values_visual]\n",
    "loss_values_total_mae = [float(value) for value in loss_values_total_mae]\n",
    "loss_values_contrastive = [float(value) for value in loss_values_contrastive]\n",
    "loss_values_total = [float(value) for value in loss_values_total]\n",
    "\n",
    "# 创建一个新的figure，并设置其大小\n",
    "plt.figure(figsize=(10, 5))\n",
    "\n",
    "# 绘制损失下降曲线\n",
    "plt.plot(loss_values_audio, label='Audio MAE Loss')\n",
    "plt.plot(loss_values_visual, label='Visual MAE Loss')\n",
    "plt.plot(loss_values_total_mae, label='Total MAE Loss')\n",
    "plt.plot(loss_values_contrastive, label='Contrastive Loss')\n",
    "plt.plot(loss_values_total, label='Total Loss')\n",
    "plt.title('Loss Decrease Over Time')\n",
    "plt.xlabel('Epoch')\n",
    "plt.ylabel('Loss')\n",
    "plt.legend()\n",
    "plt.show()"
   ]
  }
 ],
 "metadata": {
  "kernelspec": {
   "display_name": "MAE_C",
   "language": "python",
   "name": "python3"
  },
  "language_info": {
   "codemirror_mode": {
    "name": "ipython",
    "version": 3
   },
   "file_extension": ".py",
   "mimetype": "text/x-python",
   "name": "python",
   "nbconvert_exporter": "python",
   "pygments_lexer": "ipython3",
   "version": "3.8.18"
  }
 },
 "nbformat": 4,
 "nbformat_minor": 2
}

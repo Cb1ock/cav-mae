{
 "cells": [
  {
   "cell_type": "markdown",
   "metadata": {},
   "source": [
    "# load model\n"
   ]
  },
  {
   "cell_type": "code",
   "execution_count": 7,
   "metadata": {},
   "outputs": [
    {
     "name": "stdout",
     "output_type": "stream",
     "text": [
      "The autoreload extension is already loaded. To reload it, use:\n",
      "  %reload_ext autoreload\n"
     ]
    },
    {
     "name": "stderr",
     "output_type": "stream",
     "text": [
      "[autoreload of src.models.cav_mae failed: Traceback (most recent call last):\n",
      "  File \"/home/chenghao/anaconda3/envs/MAE_C/lib/python3.8/site-packages/IPython/extensions/autoreload.py\", line 273, in check\n",
      "    superreload(m, reload, self.old_objects)\n",
      "  File \"/home/chenghao/anaconda3/envs/MAE_C/lib/python3.8/site-packages/IPython/extensions/autoreload.py\", line 471, in superreload\n",
      "    module = reload(module)\n",
      "  File \"/home/chenghao/anaconda3/envs/MAE_C/lib/python3.8/importlib/__init__.py\", line 169, in reload\n",
      "    _bootstrap._exec(spec, module)\n",
      "  File \"<frozen importlib._bootstrap>\", line 604, in _exec\n",
      "  File \"<frozen importlib._bootstrap_external>\", line 843, in exec_module\n",
      "  File \"<frozen importlib._bootstrap>\", line 219, in _call_with_frames_removed\n",
      "  File \"/home/chenghao/Project/cav-mae/src/models/cav_mae.py\", line 20, in <module>\n",
      "    from models.modeling_finetune import vit_base_patch16_160\n",
      "ModuleNotFoundError: No module named 'models'\n",
      "]\n"
     ]
    }
   ],
   "source": [
    "%load_ext autoreload\n",
    "%autoreload 2\n",
    "import os\n",
    "os.environ[\"CUDA_VISIBLE_DEVICES\"] = \"1\" # select GPU"
   ]
  },
  {
   "cell_type": "markdown",
   "metadata": {},
   "source": [
    "# cav-mae 的整体模型定义并导入预训练权重"
   ]
  },
  {
   "cell_type": "code",
   "execution_count": 4,
   "metadata": {},
   "outputs": [
    {
     "name": "stdout",
     "output_type": "stream",
     "text": [
      "A CAV-MAE Model\n",
      "Use norm_pix_loss:  True\n",
      "Learnable Positional Embedding:  False\n",
      "Number of Audio Patches: 512, Visual Patches: 196\n",
      "Audio Positional Embedding Shape: torch.Size([1, 512, 768])\n",
      "Visual Positional Embedding Shape: torch.Size([1, 196, 768])\n",
      "miss= ['module.blocks_maedfer.patch_embed.proj.weight', 'module.blocks_maedfer.patch_embed.proj.bias', 'module.blocks_maedfer.blocks.0.norm1.weight', 'module.blocks_maedfer.blocks.0.norm1.bias', 'module.blocks_maedfer.blocks.0.attn.q_bias', 'module.blocks_maedfer.blocks.0.attn.v_bias', 'module.blocks_maedfer.blocks.0.attn.qkv.weight', 'module.blocks_maedfer.blocks.0.attn.proj.weight', 'module.blocks_maedfer.blocks.0.attn.proj.bias', 'module.blocks_maedfer.blocks.0.norm2.weight', 'module.blocks_maedfer.blocks.0.norm2.bias', 'module.blocks_maedfer.blocks.0.mlp.fc1.weight', 'module.blocks_maedfer.blocks.0.mlp.fc1.bias', 'module.blocks_maedfer.blocks.0.mlp.fc2.weight', 'module.blocks_maedfer.blocks.0.mlp.fc2.bias', 'module.blocks_maedfer.blocks.1.norm1.weight', 'module.blocks_maedfer.blocks.1.norm1.bias', 'module.blocks_maedfer.blocks.1.attn.q_bias', 'module.blocks_maedfer.blocks.1.attn.v_bias', 'module.blocks_maedfer.blocks.1.attn.qkv.weight', 'module.blocks_maedfer.blocks.1.attn.proj.weight', 'module.blocks_maedfer.blocks.1.attn.proj.bias', 'module.blocks_maedfer.blocks.1.norm2.weight', 'module.blocks_maedfer.blocks.1.norm2.bias', 'module.blocks_maedfer.blocks.1.mlp.fc1.weight', 'module.blocks_maedfer.blocks.1.mlp.fc1.bias', 'module.blocks_maedfer.blocks.1.mlp.fc2.weight', 'module.blocks_maedfer.blocks.1.mlp.fc2.bias', 'module.blocks_maedfer.blocks.2.norm1.weight', 'module.blocks_maedfer.blocks.2.norm1.bias', 'module.blocks_maedfer.blocks.2.attn.q_bias', 'module.blocks_maedfer.blocks.2.attn.v_bias', 'module.blocks_maedfer.blocks.2.attn.qkv.weight', 'module.blocks_maedfer.blocks.2.attn.proj.weight', 'module.blocks_maedfer.blocks.2.attn.proj.bias', 'module.blocks_maedfer.blocks.2.norm2.weight', 'module.blocks_maedfer.blocks.2.norm2.bias', 'module.blocks_maedfer.blocks.2.mlp.fc1.weight', 'module.blocks_maedfer.blocks.2.mlp.fc1.bias', 'module.blocks_maedfer.blocks.2.mlp.fc2.weight', 'module.blocks_maedfer.blocks.2.mlp.fc2.bias', 'module.blocks_maedfer.blocks.3.norm1.weight', 'module.blocks_maedfer.blocks.3.norm1.bias', 'module.blocks_maedfer.blocks.3.attn.q_bias', 'module.blocks_maedfer.blocks.3.attn.v_bias', 'module.blocks_maedfer.blocks.3.attn.qkv.weight', 'module.blocks_maedfer.blocks.3.attn.proj.weight', 'module.blocks_maedfer.blocks.3.attn.proj.bias', 'module.blocks_maedfer.blocks.3.norm2.weight', 'module.blocks_maedfer.blocks.3.norm2.bias', 'module.blocks_maedfer.blocks.3.mlp.fc1.weight', 'module.blocks_maedfer.blocks.3.mlp.fc1.bias', 'module.blocks_maedfer.blocks.3.mlp.fc2.weight', 'module.blocks_maedfer.blocks.3.mlp.fc2.bias', 'module.blocks_maedfer.blocks.4.norm1.weight', 'module.blocks_maedfer.blocks.4.norm1.bias', 'module.blocks_maedfer.blocks.4.attn.q_bias', 'module.blocks_maedfer.blocks.4.attn.v_bias', 'module.blocks_maedfer.blocks.4.attn.qkv.weight', 'module.blocks_maedfer.blocks.4.attn.proj.weight', 'module.blocks_maedfer.blocks.4.attn.proj.bias', 'module.blocks_maedfer.blocks.4.norm2.weight', 'module.blocks_maedfer.blocks.4.norm2.bias', 'module.blocks_maedfer.blocks.4.mlp.fc1.weight', 'module.blocks_maedfer.blocks.4.mlp.fc1.bias', 'module.blocks_maedfer.blocks.4.mlp.fc2.weight', 'module.blocks_maedfer.blocks.4.mlp.fc2.bias', 'module.blocks_maedfer.blocks.5.norm1.weight', 'module.blocks_maedfer.blocks.5.norm1.bias', 'module.blocks_maedfer.blocks.5.attn.q_bias', 'module.blocks_maedfer.blocks.5.attn.v_bias', 'module.blocks_maedfer.blocks.5.attn.qkv.weight', 'module.blocks_maedfer.blocks.5.attn.proj.weight', 'module.blocks_maedfer.blocks.5.attn.proj.bias', 'module.blocks_maedfer.blocks.5.norm2.weight', 'module.blocks_maedfer.blocks.5.norm2.bias', 'module.blocks_maedfer.blocks.5.mlp.fc1.weight', 'module.blocks_maedfer.blocks.5.mlp.fc1.bias', 'module.blocks_maedfer.blocks.5.mlp.fc2.weight', 'module.blocks_maedfer.blocks.5.mlp.fc2.bias', 'module.blocks_maedfer.blocks.6.norm1.weight', 'module.blocks_maedfer.blocks.6.norm1.bias', 'module.blocks_maedfer.blocks.6.attn.q_bias', 'module.blocks_maedfer.blocks.6.attn.v_bias', 'module.blocks_maedfer.blocks.6.attn.qkv.weight', 'module.blocks_maedfer.blocks.6.attn.proj.weight', 'module.blocks_maedfer.blocks.6.attn.proj.bias', 'module.blocks_maedfer.blocks.6.norm2.weight', 'module.blocks_maedfer.blocks.6.norm2.bias', 'module.blocks_maedfer.blocks.6.mlp.fc1.weight', 'module.blocks_maedfer.blocks.6.mlp.fc1.bias', 'module.blocks_maedfer.blocks.6.mlp.fc2.weight', 'module.blocks_maedfer.blocks.6.mlp.fc2.bias', 'module.blocks_maedfer.blocks.7.norm1.weight', 'module.blocks_maedfer.blocks.7.norm1.bias', 'module.blocks_maedfer.blocks.7.attn.q_bias', 'module.blocks_maedfer.blocks.7.attn.v_bias', 'module.blocks_maedfer.blocks.7.attn.qkv.weight', 'module.blocks_maedfer.blocks.7.attn.proj.weight', 'module.blocks_maedfer.blocks.7.attn.proj.bias', 'module.blocks_maedfer.blocks.7.norm2.weight', 'module.blocks_maedfer.blocks.7.norm2.bias', 'module.blocks_maedfer.blocks.7.mlp.fc1.weight', 'module.blocks_maedfer.blocks.7.mlp.fc1.bias', 'module.blocks_maedfer.blocks.7.mlp.fc2.weight', 'module.blocks_maedfer.blocks.7.mlp.fc2.bias', 'module.blocks_maedfer.blocks.8.norm1.weight', 'module.blocks_maedfer.blocks.8.norm1.bias', 'module.blocks_maedfer.blocks.8.attn.q_bias', 'module.blocks_maedfer.blocks.8.attn.v_bias', 'module.blocks_maedfer.blocks.8.attn.qkv.weight', 'module.blocks_maedfer.blocks.8.attn.proj.weight', 'module.blocks_maedfer.blocks.8.attn.proj.bias', 'module.blocks_maedfer.blocks.8.norm2.weight', 'module.blocks_maedfer.blocks.8.norm2.bias', 'module.blocks_maedfer.blocks.8.mlp.fc1.weight', 'module.blocks_maedfer.blocks.8.mlp.fc1.bias', 'module.blocks_maedfer.blocks.8.mlp.fc2.weight', 'module.blocks_maedfer.blocks.8.mlp.fc2.bias', 'module.blocks_maedfer.blocks.9.norm1.weight', 'module.blocks_maedfer.blocks.9.norm1.bias', 'module.blocks_maedfer.blocks.9.attn.q_bias', 'module.blocks_maedfer.blocks.9.attn.v_bias', 'module.blocks_maedfer.blocks.9.attn.qkv.weight', 'module.blocks_maedfer.blocks.9.attn.proj.weight', 'module.blocks_maedfer.blocks.9.attn.proj.bias', 'module.blocks_maedfer.blocks.9.norm2.weight', 'module.blocks_maedfer.blocks.9.norm2.bias', 'module.blocks_maedfer.blocks.9.mlp.fc1.weight', 'module.blocks_maedfer.blocks.9.mlp.fc1.bias', 'module.blocks_maedfer.blocks.9.mlp.fc2.weight', 'module.blocks_maedfer.blocks.9.mlp.fc2.bias', 'module.blocks_maedfer.blocks.10.norm1.weight', 'module.blocks_maedfer.blocks.10.norm1.bias', 'module.blocks_maedfer.blocks.10.attn.q_bias', 'module.blocks_maedfer.blocks.10.attn.v_bias', 'module.blocks_maedfer.blocks.10.attn.qkv.weight', 'module.blocks_maedfer.blocks.10.attn.proj.weight', 'module.blocks_maedfer.blocks.10.attn.proj.bias', 'module.blocks_maedfer.blocks.10.norm2.weight', 'module.blocks_maedfer.blocks.10.norm2.bias', 'module.blocks_maedfer.blocks.10.mlp.fc1.weight', 'module.blocks_maedfer.blocks.10.mlp.fc1.bias', 'module.blocks_maedfer.blocks.10.mlp.fc2.weight', 'module.blocks_maedfer.blocks.10.mlp.fc2.bias', 'module.blocks_maedfer.blocks.11.norm1.weight', 'module.blocks_maedfer.blocks.11.norm1.bias', 'module.blocks_maedfer.blocks.11.attn.q_bias', 'module.blocks_maedfer.blocks.11.attn.v_bias', 'module.blocks_maedfer.blocks.11.attn.qkv.weight', 'module.blocks_maedfer.blocks.11.attn.proj.weight', 'module.blocks_maedfer.blocks.11.attn.proj.bias', 'module.blocks_maedfer.blocks.11.norm2.weight', 'module.blocks_maedfer.blocks.11.norm2.bias', 'module.blocks_maedfer.blocks.11.mlp.fc1.weight', 'module.blocks_maedfer.blocks.11.mlp.fc1.bias', 'module.blocks_maedfer.blocks.11.mlp.fc2.weight', 'module.blocks_maedfer.blocks.11.mlp.fc2.bias', 'module.blocks_maedfer.fc_norm.weight', 'module.blocks_maedfer.fc_norm.bias', 'module.blocks_maedfer.head.weight', 'module.blocks_maedfer.head.bias'] unexpected= []\n"
     ]
    }
   ],
   "source": [
    "import os\n",
    "import torch\n",
    "import timm\n",
    "from src.models import CAVMAE\n",
    "\n",
    "assert timm.__version__ == '0.4.5' # it is important to have right version of timm\n",
    "\n",
    "model_path = 'pretrained_model/audio_model.pth'\n",
    "os.environ[\"CUDA_VISIBLE_DEVICES\"] = \"6,7\" # select GPU\n",
    "# CAV-MAE model with decoder\n",
    "#print(torch.cuda.device_count())\n",
    "torch.cuda.set_device(1)\n",
    "audio_model = CAVMAE(audio_length=1024,\n",
    "                     modality_specific_depth=11,\n",
    "                     norm_pix_loss=True, tr_pos=False) # most models are trained with pixel normalization and non-trainabe positional embedding\n",
    "\n",
    "device = torch.device(\"cuda\" if torch.cuda.is_available() else \"cpu\")\n",
    "mdl_weight = torch.load(model_path, map_location=device)\n",
    "audio_model = torch.nn.DataParallel(audio_model) # it is important to convert the model to dataparallel object as all weights are saved in dataparallel format (i.e., in module.xxx)\n",
    "miss, unexpected = audio_model.load_state_dict(mdl_weight, strict=False)\n",
    "print('miss=',miss, 'unexpected=', unexpected) # check if all weights are correctly loaded"
   ]
  },
  {
   "cell_type": "markdown",
   "metadata": {},
   "source": [
    "# 定义cav-mae模型，查看其中的video模块输出维度"
   ]
  },
  {
   "cell_type": "code",
   "execution_count": 3,
   "metadata": {},
   "outputs": [
    {
     "name": "stdout",
     "output_type": "stream",
     "text": [
      "A CAV-MAE Model\n",
      "Use norm_pix_loss:  True\n",
      "Learnable Positional Embedding:  False\n",
      "Number of Audio Patches: 512, Visual Patches: 196\n",
      "Audio Positional Embedding Shape: torch.Size([1, 512, 768])\n",
      "Visual Positional Embedding Shape: torch.Size([1, 196, 768])\n"
     ]
    }
   ],
   "source": [
    "import os\n",
    "import torch\n",
    "import timm\n",
    "from src.models import CAVMAE\n",
    "\n",
    "cav_mae_model = CAVMAE(audio_length=1024, \n",
    "                       modality_specific_depth=11,\n",
    "                       norm_pix_loss=True, tr_pos=False)"
   ]
  },
  {
   "cell_type": "markdown",
   "metadata": {},
   "source": [
    "# 定义mae dfer模型"
   ]
  },
  {
   "cell_type": "code",
   "execution_count": 5,
   "metadata": {},
   "outputs": [],
   "source": [
    "from src.models import modeling_finetune\n",
    "import torch\n",
    "from src.models.modeling_finetune import vit_base_patch16_160\n",
    "\n",
    "# 定义模型\n",
    "model1 = vit_base_patch16_160()\n"
   ]
  },
  {
   "cell_type": "markdown",
   "metadata": {},
   "source": [
    "# 用maedfer 进行一次前向"
   ]
  },
  {
   "cell_type": "code",
   "execution_count": 6,
   "metadata": {},
   "outputs": [
    {
     "name": "stdout",
     "output_type": "stream",
     "text": [
      "torch.Size([1, 3, 16, 160, 160])\n",
      "torch.Size([1, 3, 16, 160, 160])\n",
      "torch.Size([1, 768])\n",
      "torch.Size([1, 1000])\n"
     ]
    }
   ],
   "source": [
    "\n",
    "# 创建随机输入数据\n",
    "input_data = torch.rand(1, 3, 16, 160, 160)\n",
    "\n",
    "# 进行前向传播\n",
    "output1, output1_feature = model1(input_data,save_feature=True)\n",
    "model1.reset_classifier( num_classes=10)\n",
    "print(output1_feature.shape)\n",
    "print(output1.shape)\n"
   ]
  },
  {
   "cell_type": "code",
   "execution_count": 7,
   "metadata": {},
   "outputs": [
    {
     "name": "stdout",
     "output_type": "stream",
     "text": [
      "torch.Size([4, 3, 160, 160])\n"
     ]
    }
   ],
   "source": [
    "import torch\n",
    "import torch.nn as nn\n",
    "\n",
    "# 假设输入张量的形状是 (Batch_size, channel, 224, 224)\n",
    "Batch_size = 4\n",
    "channel = 3\n",
    "original_tensor = torch.rand(Batch_size, channel, 224, 224)\n",
    "\n",
    "# 首先将张量展平\n",
    "flattened = original_tensor.view(Batch_size, -1)\n",
    "\n",
    "# 定义一个全连接层，输出尺寸为 channel*160*160\n",
    "fc = nn.Linear(in_features=channel*224*224, out_features=channel*160*160)\n",
    "\n",
    "# 应用全连接层\n",
    "output_tensor = fc(flattened)\n",
    "\n",
    "# 将输出张量调整为 (Batch_size, channel, 160, 160)\n",
    "output_tensor = output_tensor.view(Batch_size, channel, 160, 160)\n",
    "\n",
    "# 输出结果张量的形状\n",
    "print(output_tensor.shape)  # 应该是 (Batch_size, channel, 160, 160)\n"
   ]
  }
 ],
 "metadata": {
  "kernelspec": {
   "display_name": "MAE_C",
   "language": "python",
   "name": "python3"
  },
  "language_info": {
   "codemirror_mode": {
    "name": "ipython",
    "version": 3
   },
   "file_extension": ".py",
   "mimetype": "text/x-python",
   "name": "python",
   "nbconvert_exporter": "python",
   "pygments_lexer": "ipython3",
   "version": "3.8.18"
  }
 },
 "nbformat": 4,
 "nbformat_minor": 2
}

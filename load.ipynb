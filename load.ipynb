{
 "cells": [
  {
   "cell_type": "markdown",
   "metadata": {},
   "source": [
    "# load model\n"
   ]
  },
  {
   "cell_type": "code",
   "execution_count": 1,
   "metadata": {},
   "outputs": [],
   "source": [
    "%load_ext autoreload\n",
    "%autoreload 2\n",
    "import os\n",
    "import sys\n",
    "#os.environ[\"CUDA_VISIBLE_DEVICES\"] = \"1\" # select GPU\n",
    "sys.path.append('/home/chenghao/Project/cav-mae')"
   ]
  },
  {
   "cell_type": "markdown",
   "metadata": {},
   "source": [
    "# cav-mae 的整体模型定义并导入预训练权重"
   ]
  },
  {
   "cell_type": "code",
   "execution_count": null,
   "metadata": {},
   "outputs": [],
   "source": [
    "import os\n",
    "import torch\n",
    "import timm\n",
    "from src.models import CAVMAE\n",
    "\n",
    "assert timm.__version__ == '0.4.5' # it is important to have right version of timm\n",
    "\n",
    "model_path = 'pretrained_model/audio_model.pth'\n",
    "os.environ[\"CUDA_VISIBLE_DEVICES\"] = \"6,7\" # select GPU\n",
    "# CAV-MAE model with decoder\n",
    "#print(torch.cuda.device_count())\n",
    "torch.cuda.set_device(1)\n",
    "audio_model = CAVMAE(audio_length=1024,\n",
    "                     modality_specific_depth=11,\n",
    "                     norm_pix_loss=True, tr_pos=False) # most models are trained with pixel normalization and non-trainabe positional embedding\n",
    "\n",
    "device = torch.device(\"cuda\" if torch.cuda.is_available() else \"cpu\")\n",
    "mdl_weight = torch.load(model_path, map_location=device)\n",
    "audio_model = torch.nn.DataParallel(audio_model) # it is important to convert the model to dataparallel object as all weights are saved in dataparallel format (i.e., in module.xxx)\n",
    "miss, unexpected = audio_model.load_state_dict(mdl_weight, strict=False)\n",
    "print('miss=',miss, 'unexpected=', unexpected) # check if all weights are correctly loaded"
   ]
  },
  {
   "cell_type": "markdown",
   "metadata": {},
   "source": [
    "# 定义my_cav-mae模型，查看其中的video模块输出维度"
   ]
  },
  {
   "cell_type": "code",
   "execution_count": 6,
   "metadata": {},
   "outputs": [
    {
     "name": "stdout",
     "output_type": "stream",
     "text": [
      "Use norm_pix_loss:  True\n",
      "Number of Audio Patches: 512, Visual Patches: 196\n"
     ]
    },
    {
     "ename": "RuntimeError",
     "evalue": "CUDA error: all CUDA-capable devices are busy or unavailable\nCUDA kernel errors might be asynchronously reported at some other API call,so the stacktrace below might be incorrect.\nFor debugging consider passing CUDA_LAUNCH_BLOCKING=1.",
     "output_type": "error",
     "traceback": [
      "\u001b[0;31m---------------------------------------------------------------------------\u001b[0m",
      "\u001b[0;31mRuntimeError\u001b[0m                              Traceback (most recent call last)",
      "Cell \u001b[0;32mIn[6], line 7\u001b[0m\n\u001b[1;32m      4\u001b[0m \u001b[38;5;28;01mfrom\u001b[39;00m \u001b[38;5;21;01msrc\u001b[39;00m\u001b[38;5;21;01m.\u001b[39;00m\u001b[38;5;21;01mmodels\u001b[39;00m\u001b[38;5;21;01m.\u001b[39;00m\u001b[38;5;21;01mmy_model\u001b[39;00m \u001b[38;5;28;01mimport\u001b[39;00m MY_MODULE, MY_FT\n\u001b[1;32m      6\u001b[0m pretrained_mae_path \u001b[38;5;241m=\u001b[39m \u001b[38;5;124m'\u001b[39m\u001b[38;5;124mpretrained_model/pretrained_maedfer.pth\u001b[39m\u001b[38;5;124m'\u001b[39m\n\u001b[0;32m----> 7\u001b[0m my_model \u001b[38;5;241m=\u001b[39m \u001b[43mMY_FT\u001b[49m\u001b[43m(\u001b[49m\u001b[43mlabel_dim\u001b[49m\u001b[43m \u001b[49m\u001b[38;5;241;43m=\u001b[39;49m\u001b[43m \u001b[49m\u001b[38;5;241;43m11\u001b[39;49m\u001b[43m,\u001b[49m\u001b[43m \u001b[49m\u001b[43mimg_size\u001b[49m\u001b[38;5;241;43m=\u001b[39;49m\u001b[38;5;241;43m224\u001b[39;49m\u001b[43m,\u001b[49m\u001b[43m \u001b[49m\u001b[43maudio_length\u001b[49m\u001b[38;5;241;43m=\u001b[39;49m\u001b[38;5;241;43m1024\u001b[39;49m\u001b[43m,\u001b[49m\u001b[43m \u001b[49m\n\u001b[1;32m      8\u001b[0m \u001b[43m                       \u001b[49m\u001b[43mmodality_specific_depth\u001b[49m\u001b[38;5;241;43m=\u001b[39;49m\u001b[38;5;241;43m11\u001b[39;49m\u001b[43m,\u001b[49m\n\u001b[1;32m      9\u001b[0m \u001b[43m                       \u001b[49m\u001b[43mnorm_pix_loss\u001b[49m\u001b[38;5;241;43m=\u001b[39;49m\u001b[38;5;28;43;01mTrue\u001b[39;49;00m\u001b[43m,\u001b[49m\u001b[43m \u001b[49m\u001b[43mtr_pos\u001b[49m\u001b[38;5;241;43m=\u001b[39;49m\u001b[38;5;28;43;01mFalse\u001b[39;49;00m\u001b[43m,\u001b[49m\u001b[43m \u001b[49m\u001b[43mpretrained_mae_path\u001b[49m\u001b[38;5;241;43m=\u001b[39;49m\u001b[43mpretrained_mae_path\u001b[49m\u001b[43m)\u001b[49m\n",
      "File \u001b[0;32m~/Project/cav-mae/src/models/my_model.py:669\u001b[0m, in \u001b[0;36mMY_FT.__init__\u001b[0;34m(self, label_dim, img_size, audio_length, patch_size, in_chans, embed_dim, modality_specific_depth, num_heads, mlp_ratio, norm_layer, norm_pix_loss, tr_pos, pretrained_mae_path)\u001b[0m\n\u001b[1;32m    667\u001b[0m \u001b[38;5;28mself\u001b[39m\u001b[38;5;241m.\u001b[39minitialize_weights()\n\u001b[1;32m    668\u001b[0m \u001b[38;5;66;03m# 加载预训练权重\u001b[39;00m\n\u001b[0;32m--> 669\u001b[0m pretrained_weights \u001b[38;5;241m=\u001b[39m \u001b[43mtorch\u001b[49m\u001b[38;5;241;43m.\u001b[39;49m\u001b[43mload\u001b[49m\u001b[43m(\u001b[49m\u001b[43mpretrained_mae_path\u001b[49m\u001b[43m)\u001b[49m\n\u001b[1;32m    670\u001b[0m \u001b[38;5;66;03m# 例子：调整权重字典以匹配模型中的参数键\u001b[39;00m\n\u001b[1;32m    671\u001b[0m new_state_dict \u001b[38;5;241m=\u001b[39m {}\n",
      "File \u001b[0;32m~/anaconda3/envs/MAE_C/lib/python3.8/site-packages/torch/serialization.py:607\u001b[0m, in \u001b[0;36mload\u001b[0;34m(f, map_location, pickle_module, **pickle_load_args)\u001b[0m\n\u001b[1;32m    605\u001b[0m             opened_file\u001b[38;5;241m.\u001b[39mseek(orig_position)\n\u001b[1;32m    606\u001b[0m             \u001b[38;5;28;01mreturn\u001b[39;00m torch\u001b[38;5;241m.\u001b[39mjit\u001b[38;5;241m.\u001b[39mload(opened_file)\n\u001b[0;32m--> 607\u001b[0m         \u001b[38;5;28;01mreturn\u001b[39;00m \u001b[43m_load\u001b[49m\u001b[43m(\u001b[49m\u001b[43mopened_zipfile\u001b[49m\u001b[43m,\u001b[49m\u001b[43m \u001b[49m\u001b[43mmap_location\u001b[49m\u001b[43m,\u001b[49m\u001b[43m \u001b[49m\u001b[43mpickle_module\u001b[49m\u001b[43m,\u001b[49m\u001b[43m \u001b[49m\u001b[38;5;241;43m*\u001b[39;49m\u001b[38;5;241;43m*\u001b[39;49m\u001b[43mpickle_load_args\u001b[49m\u001b[43m)\u001b[49m\n\u001b[1;32m    608\u001b[0m \u001b[38;5;28;01mreturn\u001b[39;00m _legacy_load(opened_file, map_location, pickle_module, \u001b[38;5;241m*\u001b[39m\u001b[38;5;241m*\u001b[39mpickle_load_args)\n",
      "File \u001b[0;32m~/anaconda3/envs/MAE_C/lib/python3.8/site-packages/torch/serialization.py:882\u001b[0m, in \u001b[0;36m_load\u001b[0;34m(zip_file, map_location, pickle_module, pickle_file, **pickle_load_args)\u001b[0m\n\u001b[1;32m    880\u001b[0m unpickler \u001b[38;5;241m=\u001b[39m UnpicklerWrapper(data_file, \u001b[38;5;241m*\u001b[39m\u001b[38;5;241m*\u001b[39mpickle_load_args)\n\u001b[1;32m    881\u001b[0m unpickler\u001b[38;5;241m.\u001b[39mpersistent_load \u001b[38;5;241m=\u001b[39m persistent_load\n\u001b[0;32m--> 882\u001b[0m result \u001b[38;5;241m=\u001b[39m \u001b[43munpickler\u001b[49m\u001b[38;5;241;43m.\u001b[39;49m\u001b[43mload\u001b[49m\u001b[43m(\u001b[49m\u001b[43m)\u001b[49m\n\u001b[1;32m    884\u001b[0m torch\u001b[38;5;241m.\u001b[39m_utils\u001b[38;5;241m.\u001b[39m_validate_loaded_sparse_tensors()\n\u001b[1;32m    886\u001b[0m \u001b[38;5;28;01mreturn\u001b[39;00m result\n",
      "File \u001b[0;32m~/anaconda3/envs/MAE_C/lib/python3.8/site-packages/torch/serialization.py:857\u001b[0m, in \u001b[0;36m_load.<locals>.persistent_load\u001b[0;34m(saved_id)\u001b[0m\n\u001b[1;32m    855\u001b[0m data_type, key, location, size \u001b[38;5;241m=\u001b[39m data\n\u001b[1;32m    856\u001b[0m \u001b[38;5;28;01mif\u001b[39;00m key \u001b[38;5;129;01mnot\u001b[39;00m \u001b[38;5;129;01min\u001b[39;00m loaded_storages:\n\u001b[0;32m--> 857\u001b[0m     \u001b[43mload_tensor\u001b[49m\u001b[43m(\u001b[49m\u001b[43mdata_type\u001b[49m\u001b[43m,\u001b[49m\u001b[43m \u001b[49m\u001b[43msize\u001b[49m\u001b[43m,\u001b[49m\u001b[43m \u001b[49m\u001b[43mkey\u001b[49m\u001b[43m,\u001b[49m\u001b[43m \u001b[49m\u001b[43m_maybe_decode_ascii\u001b[49m\u001b[43m(\u001b[49m\u001b[43mlocation\u001b[49m\u001b[43m)\u001b[49m\u001b[43m)\u001b[49m\n\u001b[1;32m    858\u001b[0m storage \u001b[38;5;241m=\u001b[39m loaded_storages[key]\n\u001b[1;32m    859\u001b[0m \u001b[38;5;28;01mreturn\u001b[39;00m storage\n",
      "File \u001b[0;32m~/anaconda3/envs/MAE_C/lib/python3.8/site-packages/torch/serialization.py:846\u001b[0m, in \u001b[0;36m_load.<locals>.load_tensor\u001b[0;34m(data_type, size, key, location)\u001b[0m\n\u001b[1;32m    843\u001b[0m dtype \u001b[38;5;241m=\u001b[39m data_type(\u001b[38;5;241m0\u001b[39m)\u001b[38;5;241m.\u001b[39mdtype\n\u001b[1;32m    845\u001b[0m storage \u001b[38;5;241m=\u001b[39m zip_file\u001b[38;5;241m.\u001b[39mget_storage_from_record(name, size, dtype)\u001b[38;5;241m.\u001b[39mstorage()\n\u001b[0;32m--> 846\u001b[0m loaded_storages[key] \u001b[38;5;241m=\u001b[39m \u001b[43mrestore_location\u001b[49m\u001b[43m(\u001b[49m\u001b[43mstorage\u001b[49m\u001b[43m,\u001b[49m\u001b[43m \u001b[49m\u001b[43mlocation\u001b[49m\u001b[43m)\u001b[49m\n",
      "File \u001b[0;32m~/anaconda3/envs/MAE_C/lib/python3.8/site-packages/torch/serialization.py:175\u001b[0m, in \u001b[0;36mdefault_restore_location\u001b[0;34m(storage, location)\u001b[0m\n\u001b[1;32m    173\u001b[0m \u001b[38;5;28;01mdef\u001b[39;00m \u001b[38;5;21mdefault_restore_location\u001b[39m(storage, location):\n\u001b[1;32m    174\u001b[0m     \u001b[38;5;28;01mfor\u001b[39;00m _, _, fn \u001b[38;5;129;01min\u001b[39;00m _package_registry:\n\u001b[0;32m--> 175\u001b[0m         result \u001b[38;5;241m=\u001b[39m \u001b[43mfn\u001b[49m\u001b[43m(\u001b[49m\u001b[43mstorage\u001b[49m\u001b[43m,\u001b[49m\u001b[43m \u001b[49m\u001b[43mlocation\u001b[49m\u001b[43m)\u001b[49m\n\u001b[1;32m    176\u001b[0m         \u001b[38;5;28;01mif\u001b[39;00m result \u001b[38;5;129;01mis\u001b[39;00m \u001b[38;5;129;01mnot\u001b[39;00m \u001b[38;5;28;01mNone\u001b[39;00m:\n\u001b[1;32m    177\u001b[0m             \u001b[38;5;28;01mreturn\u001b[39;00m result\n",
      "File \u001b[0;32m~/anaconda3/envs/MAE_C/lib/python3.8/site-packages/torch/serialization.py:157\u001b[0m, in \u001b[0;36m_cuda_deserialize\u001b[0;34m(obj, location)\u001b[0m\n\u001b[1;32m    155\u001b[0m         \u001b[38;5;28;01mreturn\u001b[39;00m storage_type(obj\u001b[38;5;241m.\u001b[39msize())\n\u001b[1;32m    156\u001b[0m \u001b[38;5;28;01melse\u001b[39;00m:\n\u001b[0;32m--> 157\u001b[0m     \u001b[38;5;28;01mreturn\u001b[39;00m \u001b[43mobj\u001b[49m\u001b[38;5;241;43m.\u001b[39;49m\u001b[43mcuda\u001b[49m\u001b[43m(\u001b[49m\u001b[43mdevice\u001b[49m\u001b[43m)\u001b[49m\n",
      "File \u001b[0;32m~/anaconda3/envs/MAE_C/lib/python3.8/site-packages/torch/_utils.py:79\u001b[0m, in \u001b[0;36m_cuda\u001b[0;34m(self, device, non_blocking, **kwargs)\u001b[0m\n\u001b[1;32m     77\u001b[0m \u001b[38;5;28;01melse\u001b[39;00m:\n\u001b[1;32m     78\u001b[0m     new_type \u001b[38;5;241m=\u001b[39m \u001b[38;5;28mgetattr\u001b[39m(torch\u001b[38;5;241m.\u001b[39mcuda, \u001b[38;5;28mself\u001b[39m\u001b[38;5;241m.\u001b[39m\u001b[38;5;18m__class__\u001b[39m\u001b[38;5;241m.\u001b[39m\u001b[38;5;18m__name__\u001b[39m)\n\u001b[0;32m---> 79\u001b[0m     \u001b[38;5;28;01mreturn\u001b[39;00m \u001b[43mnew_type\u001b[49m\u001b[43m(\u001b[49m\u001b[38;5;28;43mself\u001b[39;49m\u001b[38;5;241;43m.\u001b[39;49m\u001b[43msize\u001b[49m\u001b[43m(\u001b[49m\u001b[43m)\u001b[49m\u001b[43m)\u001b[49m\u001b[38;5;241m.\u001b[39mcopy_(\u001b[38;5;28mself\u001b[39m, non_blocking)\n",
      "File \u001b[0;32m~/anaconda3/envs/MAE_C/lib/python3.8/site-packages/torch/cuda/__init__.py:606\u001b[0m, in \u001b[0;36m_lazy_new\u001b[0;34m(cls, *args, **kwargs)\u001b[0m\n\u001b[1;32m    603\u001b[0m _lazy_init()\n\u001b[1;32m    604\u001b[0m \u001b[38;5;66;03m# We may need to call lazy init again if we are a forked child\u001b[39;00m\n\u001b[1;32m    605\u001b[0m \u001b[38;5;66;03m# del _CudaBase.__new__\u001b[39;00m\n\u001b[0;32m--> 606\u001b[0m \u001b[38;5;28;01mreturn\u001b[39;00m \u001b[38;5;28;43msuper\u001b[39;49m\u001b[43m(\u001b[49m\u001b[43m_CudaBase\u001b[49m\u001b[43m,\u001b[49m\u001b[43m \u001b[49m\u001b[38;5;28;43mcls\u001b[39;49m\u001b[43m)\u001b[49m\u001b[38;5;241;43m.\u001b[39;49m\u001b[38;5;21;43m__new__\u001b[39;49m\u001b[43m(\u001b[49m\u001b[38;5;28;43mcls\u001b[39;49m\u001b[43m,\u001b[49m\u001b[43m \u001b[49m\u001b[38;5;241;43m*\u001b[39;49m\u001b[43margs\u001b[49m\u001b[43m,\u001b[49m\u001b[43m \u001b[49m\u001b[38;5;241;43m*\u001b[39;49m\u001b[38;5;241;43m*\u001b[39;49m\u001b[43mkwargs\u001b[49m\u001b[43m)\u001b[49m\n",
      "\u001b[0;31mRuntimeError\u001b[0m: CUDA error: all CUDA-capable devices are busy or unavailable\nCUDA kernel errors might be asynchronously reported at some other API call,so the stacktrace below might be incorrect.\nFor debugging consider passing CUDA_LAUNCH_BLOCKING=1."
     ]
    }
   ],
   "source": [
    "import os\n",
    "import torch\n",
    "import timm\n",
    "from src.models.my_model import MY_MODULE, MY_FT\n",
    "\n",
    "pretrained_mae_path = 'pretrained_model/pretrained_maedfer.pth'\n",
    "my_model = MY_FT(label_dim = 11, img_size=224, audio_length=1024, \n",
    "                       modality_specific_depth=11,\n",
    "                       norm_pix_loss=True, tr_pos=False, pretrained_mae_path=pretrained_mae_path)\n"
   ]
  },
  {
   "cell_type": "code",
   "execution_count": 5,
   "metadata": {},
   "outputs": [],
   "source": [
    "\n",
    "Video_data = torch.randn(8, 3, 8, 224, 224)\n",
    "Audio_data = torch.randn(8, 1024, 128)\n",
    "output = my_model(Audio_data, Video_data,'multimodal')"
   ]
  },
  {
   "cell_type": "code",
   "execution_count": 4,
   "metadata": {},
   "outputs": [
    {
     "name": "stdout",
     "output_type": "stream",
     "text": [
      "tensor([[-0.6870,  0.0929, -0.6239,  1.1460,  1.8542, -2.3162, -2.3762, -2.3002,\n",
      "         -0.4243,  1.3616, -1.4501],\n",
      "        [-0.6581,  0.2606, -0.6609,  1.3923,  1.8970, -2.3761, -2.3525, -2.3711,\n",
      "         -0.3049,  1.2804, -1.4291],\n",
      "        [-0.5121,  0.1298, -0.6681,  1.1237,  1.7453, -2.2752, -2.3667, -2.0544,\n",
      "         -0.3555,  1.6860, -1.5091],\n",
      "        [-0.6265,  0.4536, -0.7279,  1.1362,  1.5975, -2.3889, -2.5821, -2.0285,\n",
      "         -0.2145,  1.6117, -1.2977],\n",
      "        [-0.4261,  0.0727, -0.6833,  1.0207,  1.7451, -2.3501, -2.4099, -2.1295,\n",
      "         -0.4103,  1.4832, -1.4321],\n",
      "        [-0.5569,  0.2884, -0.6432,  1.0969,  1.6695, -2.2065, -2.3646, -2.3155,\n",
      "         -0.1748,  1.4652, -1.4716],\n",
      "        [-0.5298,  0.2405, -0.7580,  1.0926,  1.7198, -2.1059, -2.5873, -2.0187,\n",
      "         -0.1890,  1.6137, -1.5590],\n",
      "        [-0.5457,  0.0910, -0.6811,  1.1800,  1.6495, -2.2875, -2.6334, -1.9182,\n",
      "         -0.3345,  1.4188, -1.2799]], grad_fn=<AddmmBackward0>)\n",
      "torch.Size([8, 11])\n"
     ]
    }
   ],
   "source": [
    "print(output)\n",
    "print(output.shape)"
   ]
  },
  {
   "cell_type": "markdown",
   "metadata": {},
   "source": [
    "# 定义mae dfer模型"
   ]
  },
  {
   "cell_type": "code",
   "execution_count": 13,
   "metadata": {},
   "outputs": [
    {
     "name": "stdout",
     "output_type": "stream",
     "text": [
      "dict_keys(['model', 'optimizer', 'epoch', 'scaler', 'args'])\n",
      "_IncompatibleKeys(missing_keys=['patch_embed.proj.weight', 'patch_embed.proj.bias', 'blocks.0.norm1.weight', 'blocks.0.norm1.bias', 'blocks.0.attn.q_bias', 'blocks.0.attn.v_bias', 'blocks.0.attn.qkv.weight', 'blocks.0.attn.proj.weight', 'blocks.0.attn.proj.bias', 'blocks.0.norm2.weight', 'blocks.0.norm2.bias', 'blocks.0.mlp.fc1.weight', 'blocks.0.mlp.fc1.bias', 'blocks.0.mlp.fc2.weight', 'blocks.0.mlp.fc2.bias', 'blocks.1.norm1.weight', 'blocks.1.norm1.bias', 'blocks.1.attn.q_bias', 'blocks.1.attn.v_bias', 'blocks.1.attn.qkv.weight', 'blocks.1.attn.proj.weight', 'blocks.1.attn.proj.bias', 'blocks.1.norm2.weight', 'blocks.1.norm2.bias', 'blocks.1.mlp.fc1.weight', 'blocks.1.mlp.fc1.bias', 'blocks.1.mlp.fc2.weight', 'blocks.1.mlp.fc2.bias', 'blocks.2.norm1.weight', 'blocks.2.norm1.bias', 'blocks.2.attn.q_bias', 'blocks.2.attn.v_bias', 'blocks.2.attn.qkv.weight', 'blocks.2.attn.proj.weight', 'blocks.2.attn.proj.bias', 'blocks.2.norm2.weight', 'blocks.2.norm2.bias', 'blocks.2.mlp.fc1.weight', 'blocks.2.mlp.fc1.bias', 'blocks.2.mlp.fc2.weight', 'blocks.2.mlp.fc2.bias', 'blocks.3.norm1.weight', 'blocks.3.norm1.bias', 'blocks.3.attn.q_bias', 'blocks.3.attn.v_bias', 'blocks.3.attn.qkv.weight', 'blocks.3.attn.proj.weight', 'blocks.3.attn.proj.bias', 'blocks.3.norm2.weight', 'blocks.3.norm2.bias', 'blocks.3.mlp.fc1.weight', 'blocks.3.mlp.fc1.bias', 'blocks.3.mlp.fc2.weight', 'blocks.3.mlp.fc2.bias', 'blocks.4.norm1.weight', 'blocks.4.norm1.bias', 'blocks.4.attn.q_bias', 'blocks.4.attn.v_bias', 'blocks.4.attn.qkv.weight', 'blocks.4.attn.proj.weight', 'blocks.4.attn.proj.bias', 'blocks.4.norm2.weight', 'blocks.4.norm2.bias', 'blocks.4.mlp.fc1.weight', 'blocks.4.mlp.fc1.bias', 'blocks.4.mlp.fc2.weight', 'blocks.4.mlp.fc2.bias', 'blocks.5.norm1.weight', 'blocks.5.norm1.bias', 'blocks.5.attn.q_bias', 'blocks.5.attn.v_bias', 'blocks.5.attn.qkv.weight', 'blocks.5.attn.proj.weight', 'blocks.5.attn.proj.bias', 'blocks.5.norm2.weight', 'blocks.5.norm2.bias', 'blocks.5.mlp.fc1.weight', 'blocks.5.mlp.fc1.bias', 'blocks.5.mlp.fc2.weight', 'blocks.5.mlp.fc2.bias', 'blocks.6.norm1.weight', 'blocks.6.norm1.bias', 'blocks.6.attn.q_bias', 'blocks.6.attn.v_bias', 'blocks.6.attn.qkv.weight', 'blocks.6.attn.proj.weight', 'blocks.6.attn.proj.bias', 'blocks.6.norm2.weight', 'blocks.6.norm2.bias', 'blocks.6.mlp.fc1.weight', 'blocks.6.mlp.fc1.bias', 'blocks.6.mlp.fc2.weight', 'blocks.6.mlp.fc2.bias', 'blocks.7.norm1.weight', 'blocks.7.norm1.bias', 'blocks.7.attn.q_bias', 'blocks.7.attn.v_bias', 'blocks.7.attn.qkv.weight', 'blocks.7.attn.proj.weight', 'blocks.7.attn.proj.bias', 'blocks.7.norm2.weight', 'blocks.7.norm2.bias', 'blocks.7.mlp.fc1.weight', 'blocks.7.mlp.fc1.bias', 'blocks.7.mlp.fc2.weight', 'blocks.7.mlp.fc2.bias', 'blocks.8.norm1.weight', 'blocks.8.norm1.bias', 'blocks.8.attn.q_bias', 'blocks.8.attn.v_bias', 'blocks.8.attn.qkv.weight', 'blocks.8.attn.proj.weight', 'blocks.8.attn.proj.bias', 'blocks.8.norm2.weight', 'blocks.8.norm2.bias', 'blocks.8.mlp.fc1.weight', 'blocks.8.mlp.fc1.bias', 'blocks.8.mlp.fc2.weight', 'blocks.8.mlp.fc2.bias', 'blocks.9.norm1.weight', 'blocks.9.norm1.bias', 'blocks.9.attn.q_bias', 'blocks.9.attn.v_bias', 'blocks.9.attn.qkv.weight', 'blocks.9.attn.proj.weight', 'blocks.9.attn.proj.bias', 'blocks.9.norm2.weight', 'blocks.9.norm2.bias', 'blocks.9.mlp.fc1.weight', 'blocks.9.mlp.fc1.bias', 'blocks.9.mlp.fc2.weight', 'blocks.9.mlp.fc2.bias', 'blocks.10.norm1.weight', 'blocks.10.norm1.bias', 'blocks.10.attn.q_bias', 'blocks.10.attn.v_bias', 'blocks.10.attn.qkv.weight', 'blocks.10.attn.proj.weight', 'blocks.10.attn.proj.bias', 'blocks.10.norm2.weight', 'blocks.10.norm2.bias', 'blocks.10.mlp.fc1.weight', 'blocks.10.mlp.fc1.bias', 'blocks.10.mlp.fc2.weight', 'blocks.10.mlp.fc2.bias', 'blocks.11.norm1.weight', 'blocks.11.norm1.bias', 'blocks.11.attn.q_bias', 'blocks.11.attn.v_bias', 'blocks.11.attn.qkv.weight', 'blocks.11.attn.proj.weight', 'blocks.11.attn.proj.bias', 'blocks.11.norm2.weight', 'blocks.11.norm2.bias', 'blocks.11.mlp.fc1.weight', 'blocks.11.mlp.fc1.bias', 'blocks.11.mlp.fc2.weight', 'blocks.11.mlp.fc2.bias', 'fc_norm.weight', 'fc_norm.bias', 'head.weight', 'head.bias'], unexpected_keys=['mask_token', 'encoder.lg_region_tokens', 'encoder.patch_embed.proj.weight', 'encoder.patch_embed.proj.bias', 'encoder.blocks.0.first_attn_norm0.weight', 'encoder.blocks.0.first_attn_norm0.bias', 'encoder.blocks.0.first_attn.q_bias', 'encoder.blocks.0.first_attn.v_bias', 'encoder.blocks.0.first_attn.q.weight', 'encoder.blocks.0.first_attn.kv.weight', 'encoder.blocks.0.first_attn.proj.weight', 'encoder.blocks.0.first_attn.proj.bias', 'encoder.blocks.0.second_attn_norm0.weight', 'encoder.blocks.0.second_attn_norm0.bias', 'encoder.blocks.0.second_attn.q_bias', 'encoder.blocks.0.second_attn.v_bias', 'encoder.blocks.0.second_attn.q.weight', 'encoder.blocks.0.second_attn.kv.weight', 'encoder.blocks.0.second_attn.proj.weight', 'encoder.blocks.0.second_attn.proj.bias', 'encoder.blocks.0.third_attn_norm0.weight', 'encoder.blocks.0.third_attn_norm0.bias', 'encoder.blocks.0.third_attn_norm1.weight', 'encoder.blocks.0.third_attn_norm1.bias', 'encoder.blocks.0.third_attn.q_bias', 'encoder.blocks.0.third_attn.v_bias', 'encoder.blocks.0.third_attn.q.weight', 'encoder.blocks.0.third_attn.kv.weight', 'encoder.blocks.0.third_attn.proj.weight', 'encoder.blocks.0.third_attn.proj.bias', 'encoder.blocks.0.norm2.weight', 'encoder.blocks.0.norm2.bias', 'encoder.blocks.0.mlp.fc1.weight', 'encoder.blocks.0.mlp.fc1.bias', 'encoder.blocks.0.mlp.fc2.weight', 'encoder.blocks.0.mlp.fc2.bias', 'encoder.blocks.1.first_attn_norm0.weight', 'encoder.blocks.1.first_attn_norm0.bias', 'encoder.blocks.1.first_attn.q_bias', 'encoder.blocks.1.first_attn.v_bias', 'encoder.blocks.1.first_attn.q.weight', 'encoder.blocks.1.first_attn.kv.weight', 'encoder.blocks.1.first_attn.proj.weight', 'encoder.blocks.1.first_attn.proj.bias', 'encoder.blocks.1.second_attn_norm0.weight', 'encoder.blocks.1.second_attn_norm0.bias', 'encoder.blocks.1.second_attn.q_bias', 'encoder.blocks.1.second_attn.v_bias', 'encoder.blocks.1.second_attn.q.weight', 'encoder.blocks.1.second_attn.kv.weight', 'encoder.blocks.1.second_attn.proj.weight', 'encoder.blocks.1.second_attn.proj.bias', 'encoder.blocks.1.third_attn_norm0.weight', 'encoder.blocks.1.third_attn_norm0.bias', 'encoder.blocks.1.third_attn_norm1.weight', 'encoder.blocks.1.third_attn_norm1.bias', 'encoder.blocks.1.third_attn.q_bias', 'encoder.blocks.1.third_attn.v_bias', 'encoder.blocks.1.third_attn.q.weight', 'encoder.blocks.1.third_attn.kv.weight', 'encoder.blocks.1.third_attn.proj.weight', 'encoder.blocks.1.third_attn.proj.bias', 'encoder.blocks.1.norm2.weight', 'encoder.blocks.1.norm2.bias', 'encoder.blocks.1.mlp.fc1.weight', 'encoder.blocks.1.mlp.fc1.bias', 'encoder.blocks.1.mlp.fc2.weight', 'encoder.blocks.1.mlp.fc2.bias', 'encoder.blocks.2.first_attn_norm0.weight', 'encoder.blocks.2.first_attn_norm0.bias', 'encoder.blocks.2.first_attn.q_bias', 'encoder.blocks.2.first_attn.v_bias', 'encoder.blocks.2.first_attn.q.weight', 'encoder.blocks.2.first_attn.kv.weight', 'encoder.blocks.2.first_attn.proj.weight', 'encoder.blocks.2.first_attn.proj.bias', 'encoder.blocks.2.second_attn_norm0.weight', 'encoder.blocks.2.second_attn_norm0.bias', 'encoder.blocks.2.second_attn.q_bias', 'encoder.blocks.2.second_attn.v_bias', 'encoder.blocks.2.second_attn.q.weight', 'encoder.blocks.2.second_attn.kv.weight', 'encoder.blocks.2.second_attn.proj.weight', 'encoder.blocks.2.second_attn.proj.bias', 'encoder.blocks.2.third_attn_norm0.weight', 'encoder.blocks.2.third_attn_norm0.bias', 'encoder.blocks.2.third_attn_norm1.weight', 'encoder.blocks.2.third_attn_norm1.bias', 'encoder.blocks.2.third_attn.q_bias', 'encoder.blocks.2.third_attn.v_bias', 'encoder.blocks.2.third_attn.q.weight', 'encoder.blocks.2.third_attn.kv.weight', 'encoder.blocks.2.third_attn.proj.weight', 'encoder.blocks.2.third_attn.proj.bias', 'encoder.blocks.2.norm2.weight', 'encoder.blocks.2.norm2.bias', 'encoder.blocks.2.mlp.fc1.weight', 'encoder.blocks.2.mlp.fc1.bias', 'encoder.blocks.2.mlp.fc2.weight', 'encoder.blocks.2.mlp.fc2.bias', 'encoder.blocks.3.first_attn_norm0.weight', 'encoder.blocks.3.first_attn_norm0.bias', 'encoder.blocks.3.first_attn.q_bias', 'encoder.blocks.3.first_attn.v_bias', 'encoder.blocks.3.first_attn.q.weight', 'encoder.blocks.3.first_attn.kv.weight', 'encoder.blocks.3.first_attn.proj.weight', 'encoder.blocks.3.first_attn.proj.bias', 'encoder.blocks.3.second_attn_norm0.weight', 'encoder.blocks.3.second_attn_norm0.bias', 'encoder.blocks.3.second_attn.q_bias', 'encoder.blocks.3.second_attn.v_bias', 'encoder.blocks.3.second_attn.q.weight', 'encoder.blocks.3.second_attn.kv.weight', 'encoder.blocks.3.second_attn.proj.weight', 'encoder.blocks.3.second_attn.proj.bias', 'encoder.blocks.3.third_attn_norm0.weight', 'encoder.blocks.3.third_attn_norm0.bias', 'encoder.blocks.3.third_attn_norm1.weight', 'encoder.blocks.3.third_attn_norm1.bias', 'encoder.blocks.3.third_attn.q_bias', 'encoder.blocks.3.third_attn.v_bias', 'encoder.blocks.3.third_attn.q.weight', 'encoder.blocks.3.third_attn.kv.weight', 'encoder.blocks.3.third_attn.proj.weight', 'encoder.blocks.3.third_attn.proj.bias', 'encoder.blocks.3.norm2.weight', 'encoder.blocks.3.norm2.bias', 'encoder.blocks.3.mlp.fc1.weight', 'encoder.blocks.3.mlp.fc1.bias', 'encoder.blocks.3.mlp.fc2.weight', 'encoder.blocks.3.mlp.fc2.bias', 'encoder.blocks.4.first_attn_norm0.weight', 'encoder.blocks.4.first_attn_norm0.bias', 'encoder.blocks.4.first_attn.q_bias', 'encoder.blocks.4.first_attn.v_bias', 'encoder.blocks.4.first_attn.q.weight', 'encoder.blocks.4.first_attn.kv.weight', 'encoder.blocks.4.first_attn.proj.weight', 'encoder.blocks.4.first_attn.proj.bias', 'encoder.blocks.4.second_attn_norm0.weight', 'encoder.blocks.4.second_attn_norm0.bias', 'encoder.blocks.4.second_attn.q_bias', 'encoder.blocks.4.second_attn.v_bias', 'encoder.blocks.4.second_attn.q.weight', 'encoder.blocks.4.second_attn.kv.weight', 'encoder.blocks.4.second_attn.proj.weight', 'encoder.blocks.4.second_attn.proj.bias', 'encoder.blocks.4.third_attn_norm0.weight', 'encoder.blocks.4.third_attn_norm0.bias', 'encoder.blocks.4.third_attn_norm1.weight', 'encoder.blocks.4.third_attn_norm1.bias', 'encoder.blocks.4.third_attn.q_bias', 'encoder.blocks.4.third_attn.v_bias', 'encoder.blocks.4.third_attn.q.weight', 'encoder.blocks.4.third_attn.kv.weight', 'encoder.blocks.4.third_attn.proj.weight', 'encoder.blocks.4.third_attn.proj.bias', 'encoder.blocks.4.norm2.weight', 'encoder.blocks.4.norm2.bias', 'encoder.blocks.4.mlp.fc1.weight', 'encoder.blocks.4.mlp.fc1.bias', 'encoder.blocks.4.mlp.fc2.weight', 'encoder.blocks.4.mlp.fc2.bias', 'encoder.blocks.5.first_attn_norm0.weight', 'encoder.blocks.5.first_attn_norm0.bias', 'encoder.blocks.5.first_attn.q_bias', 'encoder.blocks.5.first_attn.v_bias', 'encoder.blocks.5.first_attn.q.weight', 'encoder.blocks.5.first_attn.kv.weight', 'encoder.blocks.5.first_attn.proj.weight', 'encoder.blocks.5.first_attn.proj.bias', 'encoder.blocks.5.second_attn_norm0.weight', 'encoder.blocks.5.second_attn_norm0.bias', 'encoder.blocks.5.second_attn.q_bias', 'encoder.blocks.5.second_attn.v_bias', 'encoder.blocks.5.second_attn.q.weight', 'encoder.blocks.5.second_attn.kv.weight', 'encoder.blocks.5.second_attn.proj.weight', 'encoder.blocks.5.second_attn.proj.bias', 'encoder.blocks.5.third_attn_norm0.weight', 'encoder.blocks.5.third_attn_norm0.bias', 'encoder.blocks.5.third_attn_norm1.weight', 'encoder.blocks.5.third_attn_norm1.bias', 'encoder.blocks.5.third_attn.q_bias', 'encoder.blocks.5.third_attn.v_bias', 'encoder.blocks.5.third_attn.q.weight', 'encoder.blocks.5.third_attn.kv.weight', 'encoder.blocks.5.third_attn.proj.weight', 'encoder.blocks.5.third_attn.proj.bias', 'encoder.blocks.5.norm2.weight', 'encoder.blocks.5.norm2.bias', 'encoder.blocks.5.mlp.fc1.weight', 'encoder.blocks.5.mlp.fc1.bias', 'encoder.blocks.5.mlp.fc2.weight', 'encoder.blocks.5.mlp.fc2.bias', 'encoder.blocks.6.first_attn_norm0.weight', 'encoder.blocks.6.first_attn_norm0.bias', 'encoder.blocks.6.first_attn.q_bias', 'encoder.blocks.6.first_attn.v_bias', 'encoder.blocks.6.first_attn.q.weight', 'encoder.blocks.6.first_attn.kv.weight', 'encoder.blocks.6.first_attn.proj.weight', 'encoder.blocks.6.first_attn.proj.bias', 'encoder.blocks.6.second_attn_norm0.weight', 'encoder.blocks.6.second_attn_norm0.bias', 'encoder.blocks.6.second_attn.q_bias', 'encoder.blocks.6.second_attn.v_bias', 'encoder.blocks.6.second_attn.q.weight', 'encoder.blocks.6.second_attn.kv.weight', 'encoder.blocks.6.second_attn.proj.weight', 'encoder.blocks.6.second_attn.proj.bias', 'encoder.blocks.6.third_attn_norm0.weight', 'encoder.blocks.6.third_attn_norm0.bias', 'encoder.blocks.6.third_attn_norm1.weight', 'encoder.blocks.6.third_attn_norm1.bias', 'encoder.blocks.6.third_attn.q_bias', 'encoder.blocks.6.third_attn.v_bias', 'encoder.blocks.6.third_attn.q.weight', 'encoder.blocks.6.third_attn.kv.weight', 'encoder.blocks.6.third_attn.proj.weight', 'encoder.blocks.6.third_attn.proj.bias', 'encoder.blocks.6.norm2.weight', 'encoder.blocks.6.norm2.bias', 'encoder.blocks.6.mlp.fc1.weight', 'encoder.blocks.6.mlp.fc1.bias', 'encoder.blocks.6.mlp.fc2.weight', 'encoder.blocks.6.mlp.fc2.bias', 'encoder.blocks.7.first_attn_norm0.weight', 'encoder.blocks.7.first_attn_norm0.bias', 'encoder.blocks.7.first_attn.q_bias', 'encoder.blocks.7.first_attn.v_bias', 'encoder.blocks.7.first_attn.q.weight', 'encoder.blocks.7.first_attn.kv.weight', 'encoder.blocks.7.first_attn.proj.weight', 'encoder.blocks.7.first_attn.proj.bias', 'encoder.blocks.7.second_attn_norm0.weight', 'encoder.blocks.7.second_attn_norm0.bias', 'encoder.blocks.7.second_attn.q_bias', 'encoder.blocks.7.second_attn.v_bias', 'encoder.blocks.7.second_attn.q.weight', 'encoder.blocks.7.second_attn.kv.weight', 'encoder.blocks.7.second_attn.proj.weight', 'encoder.blocks.7.second_attn.proj.bias', 'encoder.blocks.7.third_attn_norm0.weight', 'encoder.blocks.7.third_attn_norm0.bias', 'encoder.blocks.7.third_attn_norm1.weight', 'encoder.blocks.7.third_attn_norm1.bias', 'encoder.blocks.7.third_attn.q_bias', 'encoder.blocks.7.third_attn.v_bias', 'encoder.blocks.7.third_attn.q.weight', 'encoder.blocks.7.third_attn.kv.weight', 'encoder.blocks.7.third_attn.proj.weight', 'encoder.blocks.7.third_attn.proj.bias', 'encoder.blocks.7.norm2.weight', 'encoder.blocks.7.norm2.bias', 'encoder.blocks.7.mlp.fc1.weight', 'encoder.blocks.7.mlp.fc1.bias', 'encoder.blocks.7.mlp.fc2.weight', 'encoder.blocks.7.mlp.fc2.bias', 'encoder.blocks.8.first_attn_norm0.weight', 'encoder.blocks.8.first_attn_norm0.bias', 'encoder.blocks.8.first_attn.q_bias', 'encoder.blocks.8.first_attn.v_bias', 'encoder.blocks.8.first_attn.q.weight', 'encoder.blocks.8.first_attn.kv.weight', 'encoder.blocks.8.first_attn.proj.weight', 'encoder.blocks.8.first_attn.proj.bias', 'encoder.blocks.8.second_attn_norm0.weight', 'encoder.blocks.8.second_attn_norm0.bias', 'encoder.blocks.8.second_attn.q_bias', 'encoder.blocks.8.second_attn.v_bias', 'encoder.blocks.8.second_attn.q.weight', 'encoder.blocks.8.second_attn.kv.weight', 'encoder.blocks.8.second_attn.proj.weight', 'encoder.blocks.8.second_attn.proj.bias', 'encoder.blocks.8.third_attn_norm0.weight', 'encoder.blocks.8.third_attn_norm0.bias', 'encoder.blocks.8.third_attn_norm1.weight', 'encoder.blocks.8.third_attn_norm1.bias', 'encoder.blocks.8.third_attn.q_bias', 'encoder.blocks.8.third_attn.v_bias', 'encoder.blocks.8.third_attn.q.weight', 'encoder.blocks.8.third_attn.kv.weight', 'encoder.blocks.8.third_attn.proj.weight', 'encoder.blocks.8.third_attn.proj.bias', 'encoder.blocks.8.norm2.weight', 'encoder.blocks.8.norm2.bias', 'encoder.blocks.8.mlp.fc1.weight', 'encoder.blocks.8.mlp.fc1.bias', 'encoder.blocks.8.mlp.fc2.weight', 'encoder.blocks.8.mlp.fc2.bias', 'encoder.blocks.9.first_attn_norm0.weight', 'encoder.blocks.9.first_attn_norm0.bias', 'encoder.blocks.9.first_attn.q_bias', 'encoder.blocks.9.first_attn.v_bias', 'encoder.blocks.9.first_attn.q.weight', 'encoder.blocks.9.first_attn.kv.weight', 'encoder.blocks.9.first_attn.proj.weight', 'encoder.blocks.9.first_attn.proj.bias', 'encoder.blocks.9.second_attn_norm0.weight', 'encoder.blocks.9.second_attn_norm0.bias', 'encoder.blocks.9.second_attn.q_bias', 'encoder.blocks.9.second_attn.v_bias', 'encoder.blocks.9.second_attn.q.weight', 'encoder.blocks.9.second_attn.kv.weight', 'encoder.blocks.9.second_attn.proj.weight', 'encoder.blocks.9.second_attn.proj.bias', 'encoder.blocks.9.third_attn_norm0.weight', 'encoder.blocks.9.third_attn_norm0.bias', 'encoder.blocks.9.third_attn_norm1.weight', 'encoder.blocks.9.third_attn_norm1.bias', 'encoder.blocks.9.third_attn.q_bias', 'encoder.blocks.9.third_attn.v_bias', 'encoder.blocks.9.third_attn.q.weight', 'encoder.blocks.9.third_attn.kv.weight', 'encoder.blocks.9.third_attn.proj.weight', 'encoder.blocks.9.third_attn.proj.bias', 'encoder.blocks.9.norm2.weight', 'encoder.blocks.9.norm2.bias', 'encoder.blocks.9.mlp.fc1.weight', 'encoder.blocks.9.mlp.fc1.bias', 'encoder.blocks.9.mlp.fc2.weight', 'encoder.blocks.9.mlp.fc2.bias', 'encoder.blocks.10.first_attn_norm0.weight', 'encoder.blocks.10.first_attn_norm0.bias', 'encoder.blocks.10.first_attn.q_bias', 'encoder.blocks.10.first_attn.v_bias', 'encoder.blocks.10.first_attn.q.weight', 'encoder.blocks.10.first_attn.kv.weight', 'encoder.blocks.10.first_attn.proj.weight', 'encoder.blocks.10.first_attn.proj.bias', 'encoder.blocks.10.second_attn_norm0.weight', 'encoder.blocks.10.second_attn_norm0.bias', 'encoder.blocks.10.second_attn.q_bias', 'encoder.blocks.10.second_attn.v_bias', 'encoder.blocks.10.second_attn.q.weight', 'encoder.blocks.10.second_attn.kv.weight', 'encoder.blocks.10.second_attn.proj.weight', 'encoder.blocks.10.second_attn.proj.bias', 'encoder.blocks.10.third_attn_norm0.weight', 'encoder.blocks.10.third_attn_norm0.bias', 'encoder.blocks.10.third_attn_norm1.weight', 'encoder.blocks.10.third_attn_norm1.bias', 'encoder.blocks.10.third_attn.q_bias', 'encoder.blocks.10.third_attn.v_bias', 'encoder.blocks.10.third_attn.q.weight', 'encoder.blocks.10.third_attn.kv.weight', 'encoder.blocks.10.third_attn.proj.weight', 'encoder.blocks.10.third_attn.proj.bias', 'encoder.blocks.10.norm2.weight', 'encoder.blocks.10.norm2.bias', 'encoder.blocks.10.mlp.fc1.weight', 'encoder.blocks.10.mlp.fc1.bias', 'encoder.blocks.10.mlp.fc2.weight', 'encoder.blocks.10.mlp.fc2.bias', 'encoder.blocks.11.first_attn_norm0.weight', 'encoder.blocks.11.first_attn_norm0.bias', 'encoder.blocks.11.first_attn.q_bias', 'encoder.blocks.11.first_attn.v_bias', 'encoder.blocks.11.first_attn.q.weight', 'encoder.blocks.11.first_attn.kv.weight', 'encoder.blocks.11.first_attn.proj.weight', 'encoder.blocks.11.first_attn.proj.bias', 'encoder.blocks.11.second_attn_norm0.weight', 'encoder.blocks.11.second_attn_norm0.bias', 'encoder.blocks.11.second_attn.q_bias', 'encoder.blocks.11.second_attn.v_bias', 'encoder.blocks.11.second_attn.q.weight', 'encoder.blocks.11.second_attn.kv.weight', 'encoder.blocks.11.second_attn.proj.weight', 'encoder.blocks.11.second_attn.proj.bias', 'encoder.blocks.11.third_attn_norm0.weight', 'encoder.blocks.11.third_attn_norm0.bias', 'encoder.blocks.11.third_attn_norm1.weight', 'encoder.blocks.11.third_attn_norm1.bias', 'encoder.blocks.11.third_attn.q_bias', 'encoder.blocks.11.third_attn.v_bias', 'encoder.blocks.11.third_attn.q.weight', 'encoder.blocks.11.third_attn.kv.weight', 'encoder.blocks.11.third_attn.proj.weight', 'encoder.blocks.11.third_attn.proj.bias', 'encoder.blocks.11.norm2.weight', 'encoder.blocks.11.norm2.bias', 'encoder.blocks.11.mlp.fc1.weight', 'encoder.blocks.11.mlp.fc1.bias', 'encoder.blocks.11.mlp.fc2.weight', 'encoder.blocks.11.mlp.fc2.bias', 'encoder.blocks.12.first_attn_norm0.weight', 'encoder.blocks.12.first_attn_norm0.bias', 'encoder.blocks.12.first_attn.q_bias', 'encoder.blocks.12.first_attn.v_bias', 'encoder.blocks.12.first_attn.q.weight', 'encoder.blocks.12.first_attn.kv.weight', 'encoder.blocks.12.first_attn.proj.weight', 'encoder.blocks.12.first_attn.proj.bias', 'encoder.blocks.12.second_attn_norm0.weight', 'encoder.blocks.12.second_attn_norm0.bias', 'encoder.blocks.12.second_attn.q_bias', 'encoder.blocks.12.second_attn.v_bias', 'encoder.blocks.12.second_attn.q.weight', 'encoder.blocks.12.second_attn.kv.weight', 'encoder.blocks.12.second_attn.proj.weight', 'encoder.blocks.12.second_attn.proj.bias', 'encoder.blocks.12.third_attn_norm0.weight', 'encoder.blocks.12.third_attn_norm0.bias', 'encoder.blocks.12.third_attn_norm1.weight', 'encoder.blocks.12.third_attn_norm1.bias', 'encoder.blocks.12.third_attn.q_bias', 'encoder.blocks.12.third_attn.v_bias', 'encoder.blocks.12.third_attn.q.weight', 'encoder.blocks.12.third_attn.kv.weight', 'encoder.blocks.12.third_attn.proj.weight', 'encoder.blocks.12.third_attn.proj.bias', 'encoder.blocks.12.norm2.weight', 'encoder.blocks.12.norm2.bias', 'encoder.blocks.12.mlp.fc1.weight', 'encoder.blocks.12.mlp.fc1.bias', 'encoder.blocks.12.mlp.fc2.weight', 'encoder.blocks.12.mlp.fc2.bias', 'encoder.blocks.13.first_attn_norm0.weight', 'encoder.blocks.13.first_attn_norm0.bias', 'encoder.blocks.13.first_attn.q_bias', 'encoder.blocks.13.first_attn.v_bias', 'encoder.blocks.13.first_attn.q.weight', 'encoder.blocks.13.first_attn.kv.weight', 'encoder.blocks.13.first_attn.proj.weight', 'encoder.blocks.13.first_attn.proj.bias', 'encoder.blocks.13.second_attn_norm0.weight', 'encoder.blocks.13.second_attn_norm0.bias', 'encoder.blocks.13.second_attn.q_bias', 'encoder.blocks.13.second_attn.v_bias', 'encoder.blocks.13.second_attn.q.weight', 'encoder.blocks.13.second_attn.kv.weight', 'encoder.blocks.13.second_attn.proj.weight', 'encoder.blocks.13.second_attn.proj.bias', 'encoder.blocks.13.third_attn_norm0.weight', 'encoder.blocks.13.third_attn_norm0.bias', 'encoder.blocks.13.third_attn_norm1.weight', 'encoder.blocks.13.third_attn_norm1.bias', 'encoder.blocks.13.third_attn.q_bias', 'encoder.blocks.13.third_attn.v_bias', 'encoder.blocks.13.third_attn.q.weight', 'encoder.blocks.13.third_attn.kv.weight', 'encoder.blocks.13.third_attn.proj.weight', 'encoder.blocks.13.third_attn.proj.bias', 'encoder.blocks.13.norm2.weight', 'encoder.blocks.13.norm2.bias', 'encoder.blocks.13.mlp.fc1.weight', 'encoder.blocks.13.mlp.fc1.bias', 'encoder.blocks.13.mlp.fc2.weight', 'encoder.blocks.13.mlp.fc2.bias', 'encoder.blocks.14.first_attn_norm0.weight', 'encoder.blocks.14.first_attn_norm0.bias', 'encoder.blocks.14.first_attn.q_bias', 'encoder.blocks.14.first_attn.v_bias', 'encoder.blocks.14.first_attn.q.weight', 'encoder.blocks.14.first_attn.kv.weight', 'encoder.blocks.14.first_attn.proj.weight', 'encoder.blocks.14.first_attn.proj.bias', 'encoder.blocks.14.second_attn_norm0.weight', 'encoder.blocks.14.second_attn_norm0.bias', 'encoder.blocks.14.second_attn.q_bias', 'encoder.blocks.14.second_attn.v_bias', 'encoder.blocks.14.second_attn.q.weight', 'encoder.blocks.14.second_attn.kv.weight', 'encoder.blocks.14.second_attn.proj.weight', 'encoder.blocks.14.second_attn.proj.bias', 'encoder.blocks.14.third_attn_norm0.weight', 'encoder.blocks.14.third_attn_norm0.bias', 'encoder.blocks.14.third_attn_norm1.weight', 'encoder.blocks.14.third_attn_norm1.bias', 'encoder.blocks.14.third_attn.q_bias', 'encoder.blocks.14.third_attn.v_bias', 'encoder.blocks.14.third_attn.q.weight', 'encoder.blocks.14.third_attn.kv.weight', 'encoder.blocks.14.third_attn.proj.weight', 'encoder.blocks.14.third_attn.proj.bias', 'encoder.blocks.14.norm2.weight', 'encoder.blocks.14.norm2.bias', 'encoder.blocks.14.mlp.fc1.weight', 'encoder.blocks.14.mlp.fc1.bias', 'encoder.blocks.14.mlp.fc2.weight', 'encoder.blocks.14.mlp.fc2.bias', 'encoder.blocks.15.first_attn_norm0.weight', 'encoder.blocks.15.first_attn_norm0.bias', 'encoder.blocks.15.first_attn.q_bias', 'encoder.blocks.15.first_attn.v_bias', 'encoder.blocks.15.first_attn.q.weight', 'encoder.blocks.15.first_attn.kv.weight', 'encoder.blocks.15.first_attn.proj.weight', 'encoder.blocks.15.first_attn.proj.bias', 'encoder.blocks.15.second_attn_norm0.weight', 'encoder.blocks.15.second_attn_norm0.bias', 'encoder.blocks.15.second_attn.q_bias', 'encoder.blocks.15.second_attn.v_bias', 'encoder.blocks.15.second_attn.q.weight', 'encoder.blocks.15.second_attn.kv.weight', 'encoder.blocks.15.second_attn.proj.weight', 'encoder.blocks.15.second_attn.proj.bias', 'encoder.blocks.15.third_attn_norm0.weight', 'encoder.blocks.15.third_attn_norm0.bias', 'encoder.blocks.15.third_attn_norm1.weight', 'encoder.blocks.15.third_attn_norm1.bias', 'encoder.blocks.15.third_attn.q_bias', 'encoder.blocks.15.third_attn.v_bias', 'encoder.blocks.15.third_attn.q.weight', 'encoder.blocks.15.third_attn.kv.weight', 'encoder.blocks.15.third_attn.proj.weight', 'encoder.blocks.15.third_attn.proj.bias', 'encoder.blocks.15.norm2.weight', 'encoder.blocks.15.norm2.bias', 'encoder.blocks.15.mlp.fc1.weight', 'encoder.blocks.15.mlp.fc1.bias', 'encoder.blocks.15.mlp.fc2.weight', 'encoder.blocks.15.mlp.fc2.bias', 'encoder.norm.weight', 'encoder.norm.bias', 'decoder.blocks.0.norm1.weight', 'decoder.blocks.0.norm1.bias', 'decoder.blocks.0.attn.q_bias', 'decoder.blocks.0.attn.v_bias', 'decoder.blocks.0.attn.qkv.weight', 'decoder.blocks.0.attn.proj.weight', 'decoder.blocks.0.attn.proj.bias', 'decoder.blocks.0.norm2.weight', 'decoder.blocks.0.norm2.bias', 'decoder.blocks.0.mlp.fc1.weight', 'decoder.blocks.0.mlp.fc1.bias', 'decoder.blocks.0.mlp.fc2.weight', 'decoder.blocks.0.mlp.fc2.bias', 'decoder.blocks.1.norm1.weight', 'decoder.blocks.1.norm1.bias', 'decoder.blocks.1.attn.q_bias', 'decoder.blocks.1.attn.v_bias', 'decoder.blocks.1.attn.qkv.weight', 'decoder.blocks.1.attn.proj.weight', 'decoder.blocks.1.attn.proj.bias', 'decoder.blocks.1.norm2.weight', 'decoder.blocks.1.norm2.bias', 'decoder.blocks.1.mlp.fc1.weight', 'decoder.blocks.1.mlp.fc1.bias', 'decoder.blocks.1.mlp.fc2.weight', 'decoder.blocks.1.mlp.fc2.bias', 'decoder.blocks.2.norm1.weight', 'decoder.blocks.2.norm1.bias', 'decoder.blocks.2.attn.q_bias', 'decoder.blocks.2.attn.v_bias', 'decoder.blocks.2.attn.qkv.weight', 'decoder.blocks.2.attn.proj.weight', 'decoder.blocks.2.attn.proj.bias', 'decoder.blocks.2.norm2.weight', 'decoder.blocks.2.norm2.bias', 'decoder.blocks.2.mlp.fc1.weight', 'decoder.blocks.2.mlp.fc1.bias', 'decoder.blocks.2.mlp.fc2.weight', 'decoder.blocks.2.mlp.fc2.bias', 'decoder.blocks.3.norm1.weight', 'decoder.blocks.3.norm1.bias', 'decoder.blocks.3.attn.q_bias', 'decoder.blocks.3.attn.v_bias', 'decoder.blocks.3.attn.qkv.weight', 'decoder.blocks.3.attn.proj.weight', 'decoder.blocks.3.attn.proj.bias', 'decoder.blocks.3.norm2.weight', 'decoder.blocks.3.norm2.bias', 'decoder.blocks.3.mlp.fc1.weight', 'decoder.blocks.3.mlp.fc1.bias', 'decoder.blocks.3.mlp.fc2.weight', 'decoder.blocks.3.mlp.fc2.bias', 'decoder.norm.weight', 'decoder.norm.bias', 'decoder.head.weight', 'decoder.head.bias', 'encoder_to_decoder.weight'])\n"
     ]
    }
   ],
   "source": [
    "#from src.models import modeling_finetune\n",
    "import torch\n",
    "from src.models.modeling_finetune import vit_base_patch16_160 ,vit_base_dim512_no_depth_patch16_160\n",
    "\n",
    "# 定义模型\n",
    "model1 = vit_base_dim512_no_depth_patch16_160(num_classes=11)\n",
    "model1 = model1.to('cuda')\n",
    "pretrained_model = '/home/chenghao/Project/cav-mae/pretrained_model/pretrained_maedfer.pth'\n",
    "ckt = torch.load(pretrained_model, map_location='cpu')\n",
    "print(ckt.keys())\n",
    "\n",
    "msg = model1.load_state_dict(ckt['model'], strict=False)\n",
    "print(msg)"
   ]
  },
  {
   "cell_type": "markdown",
   "metadata": {},
   "source": [
    "# 用maedfer 进行一次前向"
   ]
  },
  {
   "cell_type": "code",
   "execution_count": 14,
   "metadata": {},
   "outputs": [
    {
     "name": "stdout",
     "output_type": "stream",
     "text": [
      "torch.Size([8, 3, 16, 160, 160])\n",
      "torch.Size([8, 3, 16, 160, 160])\n",
      "torch.Size([8, 512])\n",
      "torch.Size([8, 11])\n"
     ]
    }
   ],
   "source": [
    "\n",
    "# 创建随机输入数据\n",
    "input_data = torch.rand(8, 3, 16, 160, 160)\n",
    "\n",
    "# 进行前向传播\n",
    "input_data = input_data.to('cuda:0')\n",
    "output1, output1_feature = model1(input_data,save_feature=True)\n",
    "model1.reset_classifier( num_classes=10)\n",
    "print(output1_feature.shape)\n",
    "print(output1.shape)\n"
   ]
  },
  {
   "cell_type": "code",
   "execution_count": null,
   "metadata": {},
   "outputs": [],
   "source": [
    "from src.models.modeling_pretrain import PretrainVisionTransformer\n",
    "model2 = PretrainVisionTransformer()\n",
    "input_data = torch.rand(8, 3, 16, 224, 224)\n",
    "input_mask = torch.rand(8, 16, 160, 160)\n",
    "output2, output2_feature = model2(input_data, input_mask)"
   ]
  }
 ],
 "metadata": {
  "kernelspec": {
   "display_name": "MAE_C",
   "language": "python",
   "name": "python3"
  },
  "language_info": {
   "codemirror_mode": {
    "name": "ipython",
    "version": 3
   },
   "file_extension": ".py",
   "mimetype": "text/x-python",
   "name": "python",
   "nbconvert_exporter": "python",
   "pygments_lexer": "ipython3",
   "version": "3.8.18"
  }
 },
 "nbformat": 4,
 "nbformat_minor": 2
}
